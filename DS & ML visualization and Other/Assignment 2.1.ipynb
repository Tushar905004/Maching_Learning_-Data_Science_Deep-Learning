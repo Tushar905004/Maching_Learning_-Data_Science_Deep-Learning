{
 "cells": [
  {
   "cell_type": "markdown",
   "metadata": {},
   "source": [
    "1)Ask the user for a number. Depending on whether the number is even or odd, print out an appropriate message to the user."
   ]
  },
  {
   "cell_type": "code",
   "execution_count": 1,
   "metadata": {},
   "outputs": [
    {
     "name": "stdout",
     "output_type": "stream",
     "text": [
      "Enter a number: 4\n",
      "This is an even number.\n"
     ]
    }
   ],
   "source": [
    "num = int(input(\"Enter a number: \"))\n",
    "mod = num % 2\n",
    "if mod > 0:\n",
    "    print(\"This is an odd number.\")\n",
    "else:\n",
    "    print(\"This is an even number.\")"
   ]
  },
  {
   "cell_type": "markdown",
   "metadata": {},
   "source": [
    "2)Take a list, say for example this one: a = [1, 1, 2, 3, 5, 8, 13, 21, 34, 55, 89] and write a program that prints out all the elements of the list that are less than 10. Try to make your program concise."
   ]
  },
  {
   "cell_type": "code",
   "execution_count": 17,
   "metadata": {},
   "outputs": [
    {
     "name": "stdout",
     "output_type": "stream",
     "text": [
      "[1, 1, 2, 3, 5, 8]\n"
     ]
    }
   ],
   "source": [
    "a = [1, 1, 2, 3, 5, 8, 13, 21, 34, 55, 89]\n",
    "print([i for i in a if i<10])"
   ]
  },
  {
   "cell_type": "markdown",
   "metadata": {},
   "source": [
    "3)Create a program that asks the user for a number and then prints out a list of all the divisors of that number."
   ]
  },
  {
   "cell_type": "code",
   "execution_count": 37,
   "metadata": {},
   "outputs": [
    {
     "name": "stdout",
     "output_type": "stream",
     "text": [
      "Enter an integer number:55\n",
      "The divisors of the number are:\n",
      "1\n",
      "5\n",
      "11\n",
      "55\n"
     ]
    }
   ],
   "source": [
    "n=int(input(\"Enter an integer number:\"))\n",
    "print(\"The divisors of the number are:\")\n",
    "for i in range(1,n+1):\n",
    "    if(n%i==0):\n",
    "        print(i)"
   ]
  },
  {
   "cell_type": "markdown",
   "metadata": {},
   "source": [
    "4)Take two lists, say for example these two: a = [1, 1, 2, 3, 5, 8, 13, 21, 34, 55, 89] b = [1, 2, 3, 4, 5, 6, 7, 8, 9, 10, 11, 12, 13] and write a program that returns a list that contains only the elements that are common between the lists (without duplicates). Make sure your program works on two lists of different sizes."
   ]
  },
  {
   "cell_type": "code",
   "execution_count": 1,
   "metadata": {},
   "outputs": [
    {
     "name": "stdout",
     "output_type": "stream",
     "text": [
      "[ 1  2  3  5  8 13]\n"
     ]
    }
   ],
   "source": [
    "import numpy as np\n",
    "a = [1, 1, 2, 3, 5, 8, 13, 21, 34, 55, 89]\n",
    "b = [1, 2, 3, 4, 5, 6, 7, 8, 9, 10, 11, 12, 13]\n",
    "print(np.unique([i for i in a if i in b]))\n"
   ]
  },
  {
   "cell_type": "markdown",
   "metadata": {},
   "source": [
    "5)Create a program that asks the user to enter her name and her age. Print out a message addressed to her that tells her the year when she will turn 20, 30, 40, … 100 years old, whichever is just more than her current age."
   ]
  },
  {
   "cell_type": "code",
   "execution_count": 4,
   "metadata": {},
   "outputs": [
    {
     "name": "stdout",
     "output_type": "stream",
     "text": [
      "Enter Your Name:Nivadita Nath\n",
      "Enter Your Age:28\n",
      "Nivadita Nath, In 2023 you will be 30 years old\n",
      "Nivadita Nath, In 2033 you will be 40 years old\n",
      "Nivadita Nath, In 2043 you will be 50 years old\n",
      "Nivadita Nath, In 2053 you will be 60 years old\n",
      "Nivadita Nath, In 2063 you will be 70 years old\n",
      "Nivadita Nath, In 2073 you will be 80 years old\n",
      "Nivadita Nath, In 2083 you will be 90 years old\n",
      "Nivadita Nath, In 2093 you will be 100 years old\n"
     ]
    }
   ],
   "source": [
    "from datetime import date\n",
    "c_year=date.today().year\n",
    "#print(c_year)\n",
    "name=input(\"Enter Your Name:\")\n",
    "current_age=int(input(\"Enter Your Age:\"))\n",
    "year = c_year - current_age\n",
    "for age in range(20,110,10):\n",
    "    if age > current_age:\n",
    "        print(\"{}, In {} you will be {} years old\".format(name,year+age,age))"
   ]
  },
  {
   "cell_type": "code",
   "execution_count": null,
   "metadata": {},
   "outputs": [],
   "source": []
  },
  {
   "cell_type": "code",
   "execution_count": null,
   "metadata": {},
   "outputs": [],
   "source": []
  }
 ],
 "metadata": {
  "kernelspec": {
   "display_name": "Python 3",
   "language": "python",
   "name": "python3"
  },
  "language_info": {
   "codemirror_mode": {
    "name": "ipython",
    "version": 3
   },
   "file_extension": ".py",
   "mimetype": "text/x-python",
   "name": "python",
   "nbconvert_exporter": "python",
   "pygments_lexer": "ipython3",
   "version": "3.8.5"
  }
 },
 "nbformat": 4,
 "nbformat_minor": 4
}
