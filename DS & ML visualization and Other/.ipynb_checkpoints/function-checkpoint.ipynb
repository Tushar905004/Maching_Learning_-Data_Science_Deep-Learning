{
 "cells": [
  {
   "cell_type": "markdown",
   "metadata": {},
   "source": [
    "# User defined function"
   ]
  },
  {
   "cell_type": "code",
   "execution_count": 1,
   "metadata": {},
   "outputs": [],
   "source": [
    "def de_sort(a,b,c):\n",
    "    'this is sorting function'\n",
    "    r=[]\n",
    "    for i in range(3):\n",
    "        if a>b and a>c:\n",
    "            r.append(a)\n",
    "            a=-1\n",
    "        elif b>a and b>c:\n",
    "            r.append(b)\n",
    "            b=-1\n",
    "        elif c>a and c>b:\n",
    "            r.append(c)\n",
    "            c=-1\n",
    "        \n",
    "    return(r)\n"
   ]
  },
  {
   "cell_type": "code",
   "execution_count": 2,
   "metadata": {},
   "outputs": [
    {
     "data": {
      "text/plain": [
       "[47, 12, 5]"
      ]
     },
     "execution_count": 2,
     "metadata": {},
     "output_type": "execute_result"
    }
   ],
   "source": [
    "de_sort(5,12,47)"
   ]
  },
  {
   "cell_type": "markdown",
   "metadata": {},
   "source": [
    "# Lambda function"
   ]
  },
  {
   "cell_type": "code",
   "execution_count": 16,
   "metadata": {},
   "outputs": [
    {
     "data": {
      "text/plain": [
       "16"
      ]
     },
     "execution_count": 16,
     "metadata": {},
     "output_type": "execute_result"
    }
   ],
   "source": [
    "x=lambda y:y+10\n",
    "x(6)"
   ]
  },
  {
   "cell_type": "code",
   "execution_count": 3,
   "metadata": {},
   "outputs": [],
   "source": [
    "def de_sort(a,b,c):\n",
    "    X=lambda y:sum(y)\n",
    "    r=[]\n",
    "    for i in range(3):\n",
    "        if a>b and a>c:\n",
    "            r.append(a)\n",
    "            a=-1\n",
    "        elif b>a and b>c:\n",
    "            r.append(b)\n",
    "            b=-1\n",
    "        elif c>a and c>b:\n",
    "            r.append(c)\n",
    "            c=-1\n",
    "    \n",
    "    return r,X(r)"
   ]
  },
  {
   "cell_type": "code",
   "execution_count": 4,
   "metadata": {},
   "outputs": [
    {
     "name": "stdout",
     "output_type": "stream",
     "text": [
      "sort_result [47, 12, 5] Sum: 64\n"
     ]
    }
   ],
   "source": [
    "r1,r2=de_sort(5,12,47)\n",
    "print('sort_result',r1,'Sum:',r2)"
   ]
  },
  {
   "cell_type": "markdown",
   "metadata": {},
   "source": [
    "# Recursive function"
   ]
  },
  {
   "cell_type": "code",
   "execution_count": 6,
   "metadata": {},
   "outputs": [
    {
     "name": "stdout",
     "output_type": "stream",
     "text": [
      "3\n",
      "2\n",
      "1\n",
      "The factorial of 3 is 6\n"
     ]
    }
   ],
   "source": [
    "def factorial(x):\n",
    "    \"\"\"This is a recursive function\n",
    "    to find the factorial of an integer\"\"\"\n",
    "\n",
    "    if x == 1:\n",
    "        print(x)\n",
    "        return 1\n",
    "    else:\n",
    "        print(x)\n",
    "        return (x * factorial(x-1))\n",
    "\n",
    "\n",
    "num = 3\n",
    "print(\"The factorial of\", num, \"is\", factorial(num))"
   ]
  },
  {
   "cell_type": "markdown",
   "metadata": {},
   "source": [
    "# class"
   ]
  },
  {
   "cell_type": "raw",
   "metadata": {},
   "source": [
    " __init__ function"
   ]
  },
  {
   "cell_type": "code",
   "execution_count": 7,
   "metadata": {},
   "outputs": [],
   "source": [
    "class student:\n",
    " def __init__(self, fname, class_name, roll, sec, lname):\n",
    "    self.fname=fname\n",
    "    self.class_name=class_name\n",
    "    self.roll=roll\n",
    "    self.sec=sec\n",
    "    self.lname=lname\n",
    "    \n",
    "    \n",
    "    \n",
    "S1=student('Ram',3,15,'A','Das')  \n",
    "S2=student('Rana',5,1,'D','Dey')  "
   ]
  },
  {
   "cell_type": "code",
   "execution_count": 8,
   "metadata": {},
   "outputs": [
    {
     "name": "stdout",
     "output_type": "stream",
     "text": [
      "Ram Das\n",
      "Ram & Rana are two freinds\n"
     ]
    }
   ],
   "source": [
    "print(S1.fname+' '+S1.lname)\n",
    "print(S1.fname+' & '+S2.fname,'are two freinds')"
   ]
  },
  {
   "cell_type": "raw",
   "metadata": {},
   "source": [
    "Method"
   ]
  },
  {
   "cell_type": "code",
   "execution_count": 22,
   "metadata": {},
   "outputs": [],
   "source": [
    "class Person:\n",
    "  def __init__(self, name, age):\n",
    "    self.name = name\n",
    "    self.age = age\n",
    "\n",
    "  def myfunc(self):\n",
    "    print(\"Hello my name is \" + self.name)\n",
    "\n",
    "#p1 = Person()\n",
    "p2=Person('Ram',12)"
   ]
  },
  {
   "cell_type": "code",
   "execution_count": 23,
   "metadata": {},
   "outputs": [
    {
     "name": "stdout",
     "output_type": "stream",
     "text": [
      "John\n"
     ]
    }
   ],
   "source": [
    "print(p1.name)#,p2.age)\n",
    "#p1.myfunc()"
   ]
  },
  {
   "cell_type": "markdown",
   "metadata": {},
   "source": [
    "# Inheritance"
   ]
  },
  {
   "cell_type": "code",
   "execution_count": 25,
   "metadata": {},
   "outputs": [],
   "source": [
    "class parent:\n",
    "    def p_func(self):\n",
    "        print ('This is parent Function')\n",
    "class child(parent):\n",
    "    def c_func(self):\n",
    "        print ('This is child Function')\n",
    "                "
   ]
  },
  {
   "cell_type": "code",
   "execution_count": 26,
   "metadata": {},
   "outputs": [
    {
     "name": "stdout",
     "output_type": "stream",
     "text": [
      "This is child Function\n"
     ]
    }
   ],
   "source": [
    "object1=child()\n",
    "object1.c_func()"
   ]
  },
  {
   "cell_type": "code",
   "execution_count": 27,
   "metadata": {},
   "outputs": [
    {
     "name": "stdout",
     "output_type": "stream",
     "text": [
      "This is parent Function\n"
     ]
    }
   ],
   "source": [
    "object1.p_func()"
   ]
  },
  {
   "cell_type": "code",
   "execution_count": null,
   "metadata": {},
   "outputs": [],
   "source": []
  }
 ],
 "metadata": {
  "kernelspec": {
   "display_name": "Python 3",
   "language": "python",
   "name": "python3"
  },
  "language_info": {
   "codemirror_mode": {
    "name": "ipython",
    "version": 3
   },
   "file_extension": ".py",
   "mimetype": "text/x-python",
   "name": "python",
   "nbconvert_exporter": "python",
   "pygments_lexer": "ipython3",
   "version": "3.7.6"
  }
 },
 "nbformat": 4,
 "nbformat_minor": 4
}
