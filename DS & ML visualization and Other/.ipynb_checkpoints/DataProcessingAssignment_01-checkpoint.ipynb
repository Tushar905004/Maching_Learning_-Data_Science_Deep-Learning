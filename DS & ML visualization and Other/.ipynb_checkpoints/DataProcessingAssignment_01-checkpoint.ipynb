{
 "cells": [
  {
   "cell_type": "markdown",
   "metadata": {},
   "source": [
    "# A. Today's data and time in different formats(Eg.Friday 12/02/2021)"
   ]
  },
  {
   "cell_type": "code",
   "execution_count": 54,
   "metadata": {},
   "outputs": [
    {
     "name": "stdout",
     "output_type": "stream",
     "text": [
      "Date Format1: 21/02/2021\n",
      "Date Format2: February 21, 2021\n",
      "Date Format3: 02/21/21\n",
      "Date Format4: Feb-21-2021\n",
      "Date & Time Formate: 21/02/2021 03:21:01\n"
     ]
    }
   ],
   "source": [
    "from datetime import*\n",
    "today = date.today()\n",
    "now =datetime.now()\n",
    "\n",
    "Date1=today.strftime(\"%d/%m/%Y\")\n",
    "print(\"Date Format1:\", Date1)\n",
    "\n",
    "Date2=today.strftime(\"%B %d, %Y\")\n",
    "print(\"Date Format2:\", Date2)\n",
    "\n",
    "Date3=today.strftime(\"%m/%d/%y\")\n",
    "print(\"Date Format3:\", Date3)\n",
    "\n",
    "Date4=today.strftime(\"%b-%d-%Y\")\n",
    "print(\"Date Format4:\", Date4)\n",
    "\n",
    "Datetime=now.strftime(\"%d/%m/%Y %H:%M:%S\")\n",
    "print(\"Date & Time Formate:\", Datetime)"
   ]
  },
  {
   "cell_type": "markdown",
   "metadata": {},
   "source": [
    "# B.String to date conversion(Eg.'2021-02-12 8:00PM' to 2021-02-12 20:00:00)"
   ]
  },
  {
   "cell_type": "code",
   "execution_count": 55,
   "metadata": {},
   "outputs": [
    {
     "name": "stdout",
     "output_type": "stream",
     "text": [
      "Date Conversion: 2021-02-12 20:00:00\n"
     ]
    }
   ],
   "source": [
    "from dateutil import parser as pas\n",
    "string='2021-02-12 8:00 PM'\n",
    "date_time=pas.parse(string)\n",
    "print(\"Date Conversion:\",date_time)"
   ]
  },
  {
   "cell_type": "markdown",
   "metadata": {},
   "source": [
    "# C.Difference in date time Calculation(Your age)"
   ]
  },
  {
   "cell_type": "code",
   "execution_count": 56,
   "metadata": {},
   "outputs": [
    {
     "name": "stdout",
     "output_type": "stream",
     "text": [
      "Born : 26/10/1992\n",
      "Age : 28\n"
     ]
    }
   ],
   "source": [
    "born='26/10/1992'\n",
    "print(\"Born :\",born) \n",
    "born = datetime.strptime(born, \"%d/%m/%Y\").date() \n",
    "today = date.today() \n",
    "print(\"Age :\", today.year - born.year - ((today.month, today.day) < (born.month, born.day)))"
   ]
  },
  {
   "cell_type": "markdown",
   "metadata": {},
   "source": [
    "# D.Datetime plus/minus a certain period of time."
   ]
  },
  {
   "cell_type": "code",
   "execution_count": 57,
   "metadata": {},
   "outputs": [
    {
     "name": "stdout",
     "output_type": "stream",
     "text": [
      "Today's Date: 2021-02-21 03:21:11.351126\n",
      "Date after 1.7 years will be:  2022-11-03 15:21:11.351126\n"
     ]
    }
   ],
   "source": [
    "now=datetime.now()\n",
    "print(\"Today's Date:\",str(now))\n",
    "year=timedelta(days=365)\n",
    "date=now+(year*1.7)\n",
    "print(\"Date after 1.7 years will be: \",date)"
   ]
  },
  {
   "cell_type": "markdown",
   "metadata": {},
   "source": [
    "# E.Datetime comparision(condiser any two date and compare)"
   ]
  },
  {
   "cell_type": "code",
   "execution_count": 58,
   "metadata": {},
   "outputs": [
    {
     "name": "stdout",
     "output_type": "stream",
     "text": [
      "True\n",
      "False\n",
      "False\n"
     ]
    }
   ],
   "source": [
    "import datetime\n",
    "date1=datetime.datetime(2021,2,21, 22,50,55)\n",
    "date2=datetime.datetime(2021,2,21, 7,50,55)\n",
    "\n",
    "print(date1.date()==date2.date())\n",
    "print(date1.date()<date2.date())\n",
    "print(date1.date()>date2.date())\n",
    "\n",
    "\n"
   ]
  },
  {
   "cell_type": "markdown",
   "metadata": {},
   "source": [
    "# F.Time Zones setting(Eg.Asia/Dhaka,2021-02-12 20:01:10.953082+6:00)"
   ]
  },
  {
   "cell_type": "code",
   "execution_count": 61,
   "metadata": {},
   "outputs": [
    {
     "name": "stdout",
     "output_type": "stream",
     "text": [
      "Asia/Dhaka, 2021-02-21 03:21:26.889789+06:00\n"
     ]
    }
   ],
   "source": [
    "from datetime import datetime\n",
    "from pytz import timezone\n",
    "fmt=\"%Y-%m-%d %H:%M:%S %Z%z\"\n",
    "\n",
    "now_utc = datetime.now(timezone('UTC'))\n",
    "#print('UTC: ', now_utc)\n",
    "now_dhaka = now_utc.astimezone(timezone('Asia/Dhaka'))\n",
    "print('Asia/Dhaka,',now_dhaka)"
   ]
  },
  {
   "cell_type": "markdown",
   "metadata": {},
   "source": [
    "# G.Converting Unix timestamp to datetime format:"
   ]
  },
  {
   "cell_type": "code",
   "execution_count": 64,
   "metadata": {},
   "outputs": [
    {
     "name": "stdout",
     "output_type": "stream",
     "text": [
      "2020-01-16 01:51:41\n"
     ]
    }
   ],
   "source": [
    "import time\n",
    "unix_timestamp=int(\"1579117901\")\n",
    "utc_time=time.gmtime(unix_timestamp)\n",
    "local_time = time.localtime(unix_timestamp)\n",
    "print(time.strftime(\"%Y-%m-%d %H:%M:%S\", local_time))"
   ]
  },
  {
   "cell_type": "code",
   "execution_count": null,
   "metadata": {},
   "outputs": [],
   "source": []
  },
  {
   "cell_type": "code",
   "execution_count": null,
   "metadata": {},
   "outputs": [],
   "source": []
  }
 ],
 "metadata": {
  "kernelspec": {
   "display_name": "Python 3",
   "language": "python",
   "name": "python3"
  },
  "language_info": {
   "codemirror_mode": {
    "name": "ipython",
    "version": 3
   },
   "file_extension": ".py",
   "mimetype": "text/x-python",
   "name": "python",
   "nbconvert_exporter": "python",
   "pygments_lexer": "ipython3",
   "version": "3.8.5"
  }
 },
 "nbformat": 4,
 "nbformat_minor": 4
}
