{
 "cells": [
  {
   "cell_type": "code",
   "execution_count": 6,
   "metadata": {},
   "outputs": [],
   "source": [
    "import numpy as np\n",
    "import pandas as pd\n",
    "import matplotlib.pyplot as plt\n",
    "import seaborn as sns\n",
    "sns.set()\n",
    "import warnings\n",
    "warnings.filterwarnings(\"ignore\")"
   ]
  },
  {
   "cell_type": "code",
   "execution_count": 5,
   "metadata": {},
   "outputs": [
    {
     "data": {
      "text/html": [
       "<div>\n",
       "<style scoped>\n",
       "    .dataframe tbody tr th:only-of-type {\n",
       "        vertical-align: middle;\n",
       "    }\n",
       "\n",
       "    .dataframe tbody tr th {\n",
       "        vertical-align: top;\n",
       "    }\n",
       "\n",
       "    .dataframe thead th {\n",
       "        text-align: right;\n",
       "    }\n",
       "</style>\n",
       "<table border=\"1\" class=\"dataframe\">\n",
       "  <thead>\n",
       "    <tr style=\"text-align: right;\">\n",
       "      <th></th>\n",
       "      <th>RowNumber</th>\n",
       "      <th>CustomerId</th>\n",
       "      <th>Surname</th>\n",
       "      <th>CreditScore</th>\n",
       "      <th>Geography</th>\n",
       "      <th>Gender</th>\n",
       "      <th>Age</th>\n",
       "      <th>Tenure</th>\n",
       "      <th>Balance</th>\n",
       "      <th>NumOfProducts</th>\n",
       "      <th>HasCrCard</th>\n",
       "      <th>IsActiveMember</th>\n",
       "      <th>EstimatedSalary</th>\n",
       "      <th>Exited</th>\n",
       "    </tr>\n",
       "  </thead>\n",
       "  <tbody>\n",
       "    <tr>\n",
       "      <th>0</th>\n",
       "      <td>1</td>\n",
       "      <td>15634602</td>\n",
       "      <td>Hargrave</td>\n",
       "      <td>619</td>\n",
       "      <td>France</td>\n",
       "      <td>Female</td>\n",
       "      <td>42</td>\n",
       "      <td>2</td>\n",
       "      <td>0.00</td>\n",
       "      <td>1</td>\n",
       "      <td>1</td>\n",
       "      <td>1</td>\n",
       "      <td>101348.88</td>\n",
       "      <td>1</td>\n",
       "    </tr>\n",
       "    <tr>\n",
       "      <th>1</th>\n",
       "      <td>2</td>\n",
       "      <td>15647311</td>\n",
       "      <td>Hill</td>\n",
       "      <td>608</td>\n",
       "      <td>Spain</td>\n",
       "      <td>Female</td>\n",
       "      <td>41</td>\n",
       "      <td>1</td>\n",
       "      <td>83807.86</td>\n",
       "      <td>1</td>\n",
       "      <td>0</td>\n",
       "      <td>1</td>\n",
       "      <td>112542.58</td>\n",
       "      <td>0</td>\n",
       "    </tr>\n",
       "    <tr>\n",
       "      <th>2</th>\n",
       "      <td>3</td>\n",
       "      <td>15619304</td>\n",
       "      <td>Onio</td>\n",
       "      <td>502</td>\n",
       "      <td>France</td>\n",
       "      <td>Female</td>\n",
       "      <td>42</td>\n",
       "      <td>8</td>\n",
       "      <td>159660.80</td>\n",
       "      <td>3</td>\n",
       "      <td>1</td>\n",
       "      <td>0</td>\n",
       "      <td>113931.57</td>\n",
       "      <td>1</td>\n",
       "    </tr>\n",
       "    <tr>\n",
       "      <th>3</th>\n",
       "      <td>4</td>\n",
       "      <td>15701354</td>\n",
       "      <td>Boni</td>\n",
       "      <td>699</td>\n",
       "      <td>France</td>\n",
       "      <td>Female</td>\n",
       "      <td>39</td>\n",
       "      <td>1</td>\n",
       "      <td>0.00</td>\n",
       "      <td>2</td>\n",
       "      <td>0</td>\n",
       "      <td>0</td>\n",
       "      <td>93826.63</td>\n",
       "      <td>0</td>\n",
       "    </tr>\n",
       "    <tr>\n",
       "      <th>4</th>\n",
       "      <td>5</td>\n",
       "      <td>15737888</td>\n",
       "      <td>Mitchell</td>\n",
       "      <td>850</td>\n",
       "      <td>Spain</td>\n",
       "      <td>Female</td>\n",
       "      <td>43</td>\n",
       "      <td>2</td>\n",
       "      <td>125510.82</td>\n",
       "      <td>1</td>\n",
       "      <td>1</td>\n",
       "      <td>1</td>\n",
       "      <td>79084.10</td>\n",
       "      <td>0</td>\n",
       "    </tr>\n",
       "  </tbody>\n",
       "</table>\n",
       "</div>"
      ],
      "text/plain": [
       "   RowNumber  CustomerId   Surname  CreditScore Geography  Gender  Age  \\\n",
       "0          1    15634602  Hargrave          619    France  Female   42   \n",
       "1          2    15647311      Hill          608     Spain  Female   41   \n",
       "2          3    15619304      Onio          502    France  Female   42   \n",
       "3          4    15701354      Boni          699    France  Female   39   \n",
       "4          5    15737888  Mitchell          850     Spain  Female   43   \n",
       "\n",
       "   Tenure    Balance  NumOfProducts  HasCrCard  IsActiveMember  \\\n",
       "0       2       0.00              1          1               1   \n",
       "1       1   83807.86              1          0               1   \n",
       "2       8  159660.80              3          1               0   \n",
       "3       1       0.00              2          0               0   \n",
       "4       2  125510.82              1          1               1   \n",
       "\n",
       "   EstimatedSalary  Exited  \n",
       "0        101348.88       1  \n",
       "1        112542.58       0  \n",
       "2        113931.57       1  \n",
       "3         93826.63       0  \n",
       "4         79084.10       0  "
      ]
     },
     "execution_count": 5,
     "metadata": {},
     "output_type": "execute_result"
    }
   ],
   "source": [
    "df = pd.read_csv('Churn_Modelling.csv')\n",
    "df.head()"
   ]
  },
  {
   "cell_type": "code",
   "execution_count": 8,
   "metadata": {},
   "outputs": [
    {
     "data": {
      "text/html": [
       "<div>\n",
       "<style scoped>\n",
       "    .dataframe tbody tr th:only-of-type {\n",
       "        vertical-align: middle;\n",
       "    }\n",
       "\n",
       "    .dataframe tbody tr th {\n",
       "        vertical-align: top;\n",
       "    }\n",
       "\n",
       "    .dataframe thead th {\n",
       "        text-align: right;\n",
       "    }\n",
       "</style>\n",
       "<table border=\"1\" class=\"dataframe\">\n",
       "  <thead>\n",
       "    <tr style=\"text-align: right;\">\n",
       "      <th></th>\n",
       "      <th>CreditScore</th>\n",
       "      <th>Geography</th>\n",
       "      <th>Gender</th>\n",
       "      <th>Age</th>\n",
       "      <th>Tenure</th>\n",
       "      <th>Balance</th>\n",
       "      <th>NumOfProducts</th>\n",
       "      <th>HasCrCard</th>\n",
       "      <th>IsActiveMember</th>\n",
       "      <th>EstimatedSalary</th>\n",
       "      <th>Exited</th>\n",
       "    </tr>\n",
       "  </thead>\n",
       "  <tbody>\n",
       "    <tr>\n",
       "      <th>0</th>\n",
       "      <td>619</td>\n",
       "      <td>France</td>\n",
       "      <td>Female</td>\n",
       "      <td>42</td>\n",
       "      <td>2</td>\n",
       "      <td>0.00</td>\n",
       "      <td>1</td>\n",
       "      <td>1</td>\n",
       "      <td>1</td>\n",
       "      <td>101348.88</td>\n",
       "      <td>1</td>\n",
       "    </tr>\n",
       "    <tr>\n",
       "      <th>1</th>\n",
       "      <td>608</td>\n",
       "      <td>Spain</td>\n",
       "      <td>Female</td>\n",
       "      <td>41</td>\n",
       "      <td>1</td>\n",
       "      <td>83807.86</td>\n",
       "      <td>1</td>\n",
       "      <td>0</td>\n",
       "      <td>1</td>\n",
       "      <td>112542.58</td>\n",
       "      <td>0</td>\n",
       "    </tr>\n",
       "    <tr>\n",
       "      <th>2</th>\n",
       "      <td>502</td>\n",
       "      <td>France</td>\n",
       "      <td>Female</td>\n",
       "      <td>42</td>\n",
       "      <td>8</td>\n",
       "      <td>159660.80</td>\n",
       "      <td>3</td>\n",
       "      <td>1</td>\n",
       "      <td>0</td>\n",
       "      <td>113931.57</td>\n",
       "      <td>1</td>\n",
       "    </tr>\n",
       "    <tr>\n",
       "      <th>3</th>\n",
       "      <td>699</td>\n",
       "      <td>France</td>\n",
       "      <td>Female</td>\n",
       "      <td>39</td>\n",
       "      <td>1</td>\n",
       "      <td>0.00</td>\n",
       "      <td>2</td>\n",
       "      <td>0</td>\n",
       "      <td>0</td>\n",
       "      <td>93826.63</td>\n",
       "      <td>0</td>\n",
       "    </tr>\n",
       "    <tr>\n",
       "      <th>4</th>\n",
       "      <td>850</td>\n",
       "      <td>Spain</td>\n",
       "      <td>Female</td>\n",
       "      <td>43</td>\n",
       "      <td>2</td>\n",
       "      <td>125510.82</td>\n",
       "      <td>1</td>\n",
       "      <td>1</td>\n",
       "      <td>1</td>\n",
       "      <td>79084.10</td>\n",
       "      <td>0</td>\n",
       "    </tr>\n",
       "    <tr>\n",
       "      <th>...</th>\n",
       "      <td>...</td>\n",
       "      <td>...</td>\n",
       "      <td>...</td>\n",
       "      <td>...</td>\n",
       "      <td>...</td>\n",
       "      <td>...</td>\n",
       "      <td>...</td>\n",
       "      <td>...</td>\n",
       "      <td>...</td>\n",
       "      <td>...</td>\n",
       "      <td>...</td>\n",
       "    </tr>\n",
       "    <tr>\n",
       "      <th>9995</th>\n",
       "      <td>771</td>\n",
       "      <td>France</td>\n",
       "      <td>Male</td>\n",
       "      <td>39</td>\n",
       "      <td>5</td>\n",
       "      <td>0.00</td>\n",
       "      <td>2</td>\n",
       "      <td>1</td>\n",
       "      <td>0</td>\n",
       "      <td>96270.64</td>\n",
       "      <td>0</td>\n",
       "    </tr>\n",
       "    <tr>\n",
       "      <th>9996</th>\n",
       "      <td>516</td>\n",
       "      <td>France</td>\n",
       "      <td>Male</td>\n",
       "      <td>35</td>\n",
       "      <td>10</td>\n",
       "      <td>57369.61</td>\n",
       "      <td>1</td>\n",
       "      <td>1</td>\n",
       "      <td>1</td>\n",
       "      <td>101699.77</td>\n",
       "      <td>0</td>\n",
       "    </tr>\n",
       "    <tr>\n",
       "      <th>9997</th>\n",
       "      <td>709</td>\n",
       "      <td>France</td>\n",
       "      <td>Female</td>\n",
       "      <td>36</td>\n",
       "      <td>7</td>\n",
       "      <td>0.00</td>\n",
       "      <td>1</td>\n",
       "      <td>0</td>\n",
       "      <td>1</td>\n",
       "      <td>42085.58</td>\n",
       "      <td>1</td>\n",
       "    </tr>\n",
       "    <tr>\n",
       "      <th>9998</th>\n",
       "      <td>772</td>\n",
       "      <td>Germany</td>\n",
       "      <td>Male</td>\n",
       "      <td>42</td>\n",
       "      <td>3</td>\n",
       "      <td>75075.31</td>\n",
       "      <td>2</td>\n",
       "      <td>1</td>\n",
       "      <td>0</td>\n",
       "      <td>92888.52</td>\n",
       "      <td>1</td>\n",
       "    </tr>\n",
       "    <tr>\n",
       "      <th>9999</th>\n",
       "      <td>792</td>\n",
       "      <td>France</td>\n",
       "      <td>Female</td>\n",
       "      <td>28</td>\n",
       "      <td>4</td>\n",
       "      <td>130142.79</td>\n",
       "      <td>1</td>\n",
       "      <td>1</td>\n",
       "      <td>0</td>\n",
       "      <td>38190.78</td>\n",
       "      <td>0</td>\n",
       "    </tr>\n",
       "  </tbody>\n",
       "</table>\n",
       "<p>10000 rows × 11 columns</p>\n",
       "</div>"
      ],
      "text/plain": [
       "      CreditScore Geography  Gender  Age  Tenure    Balance  NumOfProducts  \\\n",
       "0             619    France  Female   42       2       0.00              1   \n",
       "1             608     Spain  Female   41       1   83807.86              1   \n",
       "2             502    France  Female   42       8  159660.80              3   \n",
       "3             699    France  Female   39       1       0.00              2   \n",
       "4             850     Spain  Female   43       2  125510.82              1   \n",
       "...           ...       ...     ...  ...     ...        ...            ...   \n",
       "9995          771    France    Male   39       5       0.00              2   \n",
       "9996          516    France    Male   35      10   57369.61              1   \n",
       "9997          709    France  Female   36       7       0.00              1   \n",
       "9998          772   Germany    Male   42       3   75075.31              2   \n",
       "9999          792    France  Female   28       4  130142.79              1   \n",
       "\n",
       "      HasCrCard  IsActiveMember  EstimatedSalary  Exited  \n",
       "0             1               1        101348.88       1  \n",
       "1             0               1        112542.58       0  \n",
       "2             1               0        113931.57       1  \n",
       "3             0               0         93826.63       0  \n",
       "4             1               1         79084.10       0  \n",
       "...         ...             ...              ...     ...  \n",
       "9995          1               0         96270.64       0  \n",
       "9996          1               1        101699.77       0  \n",
       "9997          0               1         42085.58       1  \n",
       "9998          1               0         92888.52       1  \n",
       "9999          1               0         38190.78       0  \n",
       "\n",
       "[10000 rows x 11 columns]"
      ]
     },
     "execution_count": 8,
     "metadata": {},
     "output_type": "execute_result"
    }
   ],
   "source": [
    "df1 = df.drop(['RowNumber', 'CustomerId','Surname'], axis =1)\n",
    "df1"
   ]
  },
  {
   "cell_type": "code",
   "execution_count": 9,
   "metadata": {},
   "outputs": [
    {
     "data": {
      "text/plain": [
       "(10000, 11)"
      ]
     },
     "execution_count": 9,
     "metadata": {},
     "output_type": "execute_result"
    }
   ],
   "source": [
    "df1.shape"
   ]
  },
  {
   "cell_type": "code",
   "execution_count": 10,
   "metadata": {},
   "outputs": [
    {
     "name": "stdout",
     "output_type": "stream",
     "text": [
      "<class 'pandas.core.frame.DataFrame'>\n",
      "RangeIndex: 10000 entries, 0 to 9999\n",
      "Data columns (total 11 columns):\n",
      " #   Column           Non-Null Count  Dtype  \n",
      "---  ------           --------------  -----  \n",
      " 0   CreditScore      10000 non-null  int64  \n",
      " 1   Geography        10000 non-null  object \n",
      " 2   Gender           10000 non-null  object \n",
      " 3   Age              10000 non-null  int64  \n",
      " 4   Tenure           10000 non-null  int64  \n",
      " 5   Balance          10000 non-null  float64\n",
      " 6   NumOfProducts    10000 non-null  int64  \n",
      " 7   HasCrCard        10000 non-null  int64  \n",
      " 8   IsActiveMember   10000 non-null  int64  \n",
      " 9   EstimatedSalary  10000 non-null  float64\n",
      " 10  Exited           10000 non-null  int64  \n",
      "dtypes: float64(2), int64(7), object(2)\n",
      "memory usage: 859.5+ KB\n"
     ]
    }
   ],
   "source": [
    "df1.info()"
   ]
  },
  {
   "cell_type": "code",
   "execution_count": 12,
   "metadata": {},
   "outputs": [
    {
     "data": {
      "text/html": [
       "<div>\n",
       "<style scoped>\n",
       "    .dataframe tbody tr th:only-of-type {\n",
       "        vertical-align: middle;\n",
       "    }\n",
       "\n",
       "    .dataframe tbody tr th {\n",
       "        vertical-align: top;\n",
       "    }\n",
       "\n",
       "    .dataframe thead th {\n",
       "        text-align: right;\n",
       "    }\n",
       "</style>\n",
       "<table border=\"1\" class=\"dataframe\">\n",
       "  <thead>\n",
       "    <tr style=\"text-align: right;\">\n",
       "      <th></th>\n",
       "      <th>CreditScore</th>\n",
       "      <th>Age</th>\n",
       "      <th>Tenure</th>\n",
       "      <th>Balance</th>\n",
       "      <th>NumOfProducts</th>\n",
       "      <th>HasCrCard</th>\n",
       "      <th>IsActiveMember</th>\n",
       "      <th>EstimatedSalary</th>\n",
       "      <th>Exited</th>\n",
       "    </tr>\n",
       "  </thead>\n",
       "  <tbody>\n",
       "    <tr>\n",
       "      <th>count</th>\n",
       "      <td>10000.000000</td>\n",
       "      <td>10000.000000</td>\n",
       "      <td>10000.000000</td>\n",
       "      <td>10000.000000</td>\n",
       "      <td>10000.000000</td>\n",
       "      <td>10000.00000</td>\n",
       "      <td>10000.000000</td>\n",
       "      <td>10000.000000</td>\n",
       "      <td>10000.000000</td>\n",
       "    </tr>\n",
       "    <tr>\n",
       "      <th>mean</th>\n",
       "      <td>650.528800</td>\n",
       "      <td>38.921800</td>\n",
       "      <td>5.012800</td>\n",
       "      <td>76485.889288</td>\n",
       "      <td>1.530200</td>\n",
       "      <td>0.70550</td>\n",
       "      <td>0.515100</td>\n",
       "      <td>100090.239881</td>\n",
       "      <td>0.203700</td>\n",
       "    </tr>\n",
       "    <tr>\n",
       "      <th>std</th>\n",
       "      <td>96.653299</td>\n",
       "      <td>10.487806</td>\n",
       "      <td>2.892174</td>\n",
       "      <td>62397.405202</td>\n",
       "      <td>0.581654</td>\n",
       "      <td>0.45584</td>\n",
       "      <td>0.499797</td>\n",
       "      <td>57510.492818</td>\n",
       "      <td>0.402769</td>\n",
       "    </tr>\n",
       "    <tr>\n",
       "      <th>min</th>\n",
       "      <td>350.000000</td>\n",
       "      <td>18.000000</td>\n",
       "      <td>0.000000</td>\n",
       "      <td>0.000000</td>\n",
       "      <td>1.000000</td>\n",
       "      <td>0.00000</td>\n",
       "      <td>0.000000</td>\n",
       "      <td>11.580000</td>\n",
       "      <td>0.000000</td>\n",
       "    </tr>\n",
       "    <tr>\n",
       "      <th>25%</th>\n",
       "      <td>584.000000</td>\n",
       "      <td>32.000000</td>\n",
       "      <td>3.000000</td>\n",
       "      <td>0.000000</td>\n",
       "      <td>1.000000</td>\n",
       "      <td>0.00000</td>\n",
       "      <td>0.000000</td>\n",
       "      <td>51002.110000</td>\n",
       "      <td>0.000000</td>\n",
       "    </tr>\n",
       "    <tr>\n",
       "      <th>50%</th>\n",
       "      <td>652.000000</td>\n",
       "      <td>37.000000</td>\n",
       "      <td>5.000000</td>\n",
       "      <td>97198.540000</td>\n",
       "      <td>1.000000</td>\n",
       "      <td>1.00000</td>\n",
       "      <td>1.000000</td>\n",
       "      <td>100193.915000</td>\n",
       "      <td>0.000000</td>\n",
       "    </tr>\n",
       "    <tr>\n",
       "      <th>75%</th>\n",
       "      <td>718.000000</td>\n",
       "      <td>44.000000</td>\n",
       "      <td>7.000000</td>\n",
       "      <td>127644.240000</td>\n",
       "      <td>2.000000</td>\n",
       "      <td>1.00000</td>\n",
       "      <td>1.000000</td>\n",
       "      <td>149388.247500</td>\n",
       "      <td>0.000000</td>\n",
       "    </tr>\n",
       "    <tr>\n",
       "      <th>max</th>\n",
       "      <td>850.000000</td>\n",
       "      <td>92.000000</td>\n",
       "      <td>10.000000</td>\n",
       "      <td>250898.090000</td>\n",
       "      <td>4.000000</td>\n",
       "      <td>1.00000</td>\n",
       "      <td>1.000000</td>\n",
       "      <td>199992.480000</td>\n",
       "      <td>1.000000</td>\n",
       "    </tr>\n",
       "  </tbody>\n",
       "</table>\n",
       "</div>"
      ],
      "text/plain": [
       "        CreditScore           Age        Tenure        Balance  NumOfProducts  \\\n",
       "count  10000.000000  10000.000000  10000.000000   10000.000000   10000.000000   \n",
       "mean     650.528800     38.921800      5.012800   76485.889288       1.530200   \n",
       "std       96.653299     10.487806      2.892174   62397.405202       0.581654   \n",
       "min      350.000000     18.000000      0.000000       0.000000       1.000000   \n",
       "25%      584.000000     32.000000      3.000000       0.000000       1.000000   \n",
       "50%      652.000000     37.000000      5.000000   97198.540000       1.000000   \n",
       "75%      718.000000     44.000000      7.000000  127644.240000       2.000000   \n",
       "max      850.000000     92.000000     10.000000  250898.090000       4.000000   \n",
       "\n",
       "         HasCrCard  IsActiveMember  EstimatedSalary        Exited  \n",
       "count  10000.00000    10000.000000     10000.000000  10000.000000  \n",
       "mean       0.70550        0.515100    100090.239881      0.203700  \n",
       "std        0.45584        0.499797     57510.492818      0.402769  \n",
       "min        0.00000        0.000000        11.580000      0.000000  \n",
       "25%        0.00000        0.000000     51002.110000      0.000000  \n",
       "50%        1.00000        1.000000    100193.915000      0.000000  \n",
       "75%        1.00000        1.000000    149388.247500      0.000000  \n",
       "max        1.00000        1.000000    199992.480000      1.000000  "
      ]
     },
     "execution_count": 12,
     "metadata": {},
     "output_type": "execute_result"
    }
   ],
   "source": [
    "df1.describe()"
   ]
  },
  {
   "cell_type": "code",
   "execution_count": 13,
   "metadata": {},
   "outputs": [
    {
     "data": {
      "text/html": [
       "<div>\n",
       "<style scoped>\n",
       "    .dataframe tbody tr th:only-of-type {\n",
       "        vertical-align: middle;\n",
       "    }\n",
       "\n",
       "    .dataframe tbody tr th {\n",
       "        vertical-align: top;\n",
       "    }\n",
       "\n",
       "    .dataframe thead th {\n",
       "        text-align: right;\n",
       "    }\n",
       "</style>\n",
       "<table border=\"1\" class=\"dataframe\">\n",
       "  <thead>\n",
       "    <tr style=\"text-align: right;\">\n",
       "      <th></th>\n",
       "      <th>CreditScore</th>\n",
       "      <th>Age</th>\n",
       "      <th>Tenure</th>\n",
       "      <th>Balance</th>\n",
       "      <th>NumOfProducts</th>\n",
       "      <th>HasCrCard</th>\n",
       "      <th>IsActiveMember</th>\n",
       "      <th>EstimatedSalary</th>\n",
       "      <th>Exited</th>\n",
       "    </tr>\n",
       "  </thead>\n",
       "  <tbody>\n",
       "    <tr>\n",
       "      <th>CreditScore</th>\n",
       "      <td>1.000000</td>\n",
       "      <td>-0.003965</td>\n",
       "      <td>0.000842</td>\n",
       "      <td>0.006268</td>\n",
       "      <td>0.012238</td>\n",
       "      <td>-0.005458</td>\n",
       "      <td>0.025651</td>\n",
       "      <td>-0.001384</td>\n",
       "      <td>-0.027094</td>\n",
       "    </tr>\n",
       "    <tr>\n",
       "      <th>Age</th>\n",
       "      <td>-0.003965</td>\n",
       "      <td>1.000000</td>\n",
       "      <td>-0.009997</td>\n",
       "      <td>0.028308</td>\n",
       "      <td>-0.030680</td>\n",
       "      <td>-0.011721</td>\n",
       "      <td>0.085472</td>\n",
       "      <td>-0.007201</td>\n",
       "      <td>0.285323</td>\n",
       "    </tr>\n",
       "    <tr>\n",
       "      <th>Tenure</th>\n",
       "      <td>0.000842</td>\n",
       "      <td>-0.009997</td>\n",
       "      <td>1.000000</td>\n",
       "      <td>-0.012254</td>\n",
       "      <td>0.013444</td>\n",
       "      <td>0.022583</td>\n",
       "      <td>-0.028362</td>\n",
       "      <td>0.007784</td>\n",
       "      <td>-0.014001</td>\n",
       "    </tr>\n",
       "    <tr>\n",
       "      <th>Balance</th>\n",
       "      <td>0.006268</td>\n",
       "      <td>0.028308</td>\n",
       "      <td>-0.012254</td>\n",
       "      <td>1.000000</td>\n",
       "      <td>-0.304180</td>\n",
       "      <td>-0.014858</td>\n",
       "      <td>-0.010084</td>\n",
       "      <td>0.012797</td>\n",
       "      <td>0.118533</td>\n",
       "    </tr>\n",
       "    <tr>\n",
       "      <th>NumOfProducts</th>\n",
       "      <td>0.012238</td>\n",
       "      <td>-0.030680</td>\n",
       "      <td>0.013444</td>\n",
       "      <td>-0.304180</td>\n",
       "      <td>1.000000</td>\n",
       "      <td>0.003183</td>\n",
       "      <td>0.009612</td>\n",
       "      <td>0.014204</td>\n",
       "      <td>-0.047820</td>\n",
       "    </tr>\n",
       "    <tr>\n",
       "      <th>HasCrCard</th>\n",
       "      <td>-0.005458</td>\n",
       "      <td>-0.011721</td>\n",
       "      <td>0.022583</td>\n",
       "      <td>-0.014858</td>\n",
       "      <td>0.003183</td>\n",
       "      <td>1.000000</td>\n",
       "      <td>-0.011866</td>\n",
       "      <td>-0.009933</td>\n",
       "      <td>-0.007138</td>\n",
       "    </tr>\n",
       "    <tr>\n",
       "      <th>IsActiveMember</th>\n",
       "      <td>0.025651</td>\n",
       "      <td>0.085472</td>\n",
       "      <td>-0.028362</td>\n",
       "      <td>-0.010084</td>\n",
       "      <td>0.009612</td>\n",
       "      <td>-0.011866</td>\n",
       "      <td>1.000000</td>\n",
       "      <td>-0.011421</td>\n",
       "      <td>-0.156128</td>\n",
       "    </tr>\n",
       "    <tr>\n",
       "      <th>EstimatedSalary</th>\n",
       "      <td>-0.001384</td>\n",
       "      <td>-0.007201</td>\n",
       "      <td>0.007784</td>\n",
       "      <td>0.012797</td>\n",
       "      <td>0.014204</td>\n",
       "      <td>-0.009933</td>\n",
       "      <td>-0.011421</td>\n",
       "      <td>1.000000</td>\n",
       "      <td>0.012097</td>\n",
       "    </tr>\n",
       "    <tr>\n",
       "      <th>Exited</th>\n",
       "      <td>-0.027094</td>\n",
       "      <td>0.285323</td>\n",
       "      <td>-0.014001</td>\n",
       "      <td>0.118533</td>\n",
       "      <td>-0.047820</td>\n",
       "      <td>-0.007138</td>\n",
       "      <td>-0.156128</td>\n",
       "      <td>0.012097</td>\n",
       "      <td>1.000000</td>\n",
       "    </tr>\n",
       "  </tbody>\n",
       "</table>\n",
       "</div>"
      ],
      "text/plain": [
       "                 CreditScore       Age    Tenure   Balance  NumOfProducts  \\\n",
       "CreditScore         1.000000 -0.003965  0.000842  0.006268       0.012238   \n",
       "Age                -0.003965  1.000000 -0.009997  0.028308      -0.030680   \n",
       "Tenure              0.000842 -0.009997  1.000000 -0.012254       0.013444   \n",
       "Balance             0.006268  0.028308 -0.012254  1.000000      -0.304180   \n",
       "NumOfProducts       0.012238 -0.030680  0.013444 -0.304180       1.000000   \n",
       "HasCrCard          -0.005458 -0.011721  0.022583 -0.014858       0.003183   \n",
       "IsActiveMember      0.025651  0.085472 -0.028362 -0.010084       0.009612   \n",
       "EstimatedSalary    -0.001384 -0.007201  0.007784  0.012797       0.014204   \n",
       "Exited             -0.027094  0.285323 -0.014001  0.118533      -0.047820   \n",
       "\n",
       "                 HasCrCard  IsActiveMember  EstimatedSalary    Exited  \n",
       "CreditScore      -0.005458        0.025651        -0.001384 -0.027094  \n",
       "Age              -0.011721        0.085472        -0.007201  0.285323  \n",
       "Tenure            0.022583       -0.028362         0.007784 -0.014001  \n",
       "Balance          -0.014858       -0.010084         0.012797  0.118533  \n",
       "NumOfProducts     0.003183        0.009612         0.014204 -0.047820  \n",
       "HasCrCard         1.000000       -0.011866        -0.009933 -0.007138  \n",
       "IsActiveMember   -0.011866        1.000000        -0.011421 -0.156128  \n",
       "EstimatedSalary  -0.009933       -0.011421         1.000000  0.012097  \n",
       "Exited           -0.007138       -0.156128         0.012097  1.000000  "
      ]
     },
     "execution_count": 13,
     "metadata": {},
     "output_type": "execute_result"
    }
   ],
   "source": [
    "df1.corr()"
   ]
  },
  {
   "cell_type": "code",
   "execution_count": 15,
   "metadata": {},
   "outputs": [
    {
     "data": {
      "text/plain": [
       "Text(0.5, 1.0, 'Correlations between features')"
      ]
     },
     "execution_count": 15,
     "metadata": {},
     "output_type": "execute_result"
    },
    {
     "data": {
      "image/png": "[encoded data removed]",
      "text/plain": [
       "<Figure size 1152x720 with 2 Axes>"
      ]
     },
     "metadata": {},
     "output_type": "display_data"
    }
   ],
   "source": [
    "plt.figure(figsize=(16,10))\n",
    "sns.heatmap(df1.corr(),cmap='OrRd', annot=True,linewidths=0.4)\n",
    "plt.title(\"Correlations between features\", fontsize=15)"
   ]
  },
  {
   "cell_type": "code",
   "execution_count": 132,
   "metadata": {},
   "outputs": [
    {
     "data": {
      "image/png": "[encoded data removed]",
      "text/plain": [
       "<Figure size 1080x504 with 1 Axes>"
      ]
     },
     "metadata": {},
     "output_type": "display_data"
    }
   ],
   "source": [
    "#lets findout the distribution of Churn: Yes and No's First\n",
    "plt.figure(figsize=(15,7))\n",
    "vis1 =sns.countplot(df1['Exited'],palette='RdBu_r')\n",
    "plt.title('Distribution of Exited',fontsize=15)\n",
    "plt.xlabel('Exited', fontsize=14)\n",
    "plt.ylabel('Count',fontsize=14)\n",
    "\n",
    "for i in vis1.patches:\n",
    "    vis1.annotate(format(i.get_height(),'.0f'),(i.get_x() + i.get_width()/2.,i.get_height()),\n",
    "                 ha='center', va='center',xytext =(0,10),textcoords='offset points',fontsize=13)"
   ]
  },
  {
   "cell_type": "markdown",
   "metadata": {},
   "source": [
    "# Observation:"
   ]
  },
  {
   "cell_type": "code",
   "execution_count": 21,
   "metadata": {},
   "outputs": [
    {
     "data": {
      "image/png": "[encoded data removed]",
      "text/plain": [
       "<Figure size 432x288 with 1 Axes>"
      ]
     },
     "metadata": {},
     "output_type": "display_data"
    }
   ],
   "source": [
    "##Let's see this through dist plot\n",
    "plt.hist(df1.EstimatedSalary, bins=6, rwidth=0.8)\n",
    "plt.xlabel('EstimatedSalary')\n",
    "plt.ylabel('Count')\n",
    "plt.show()"
   ]
  },
  {
   "cell_type": "code",
   "execution_count": 23,
   "metadata": {},
   "outputs": [
    {
     "data": {
      "image/png": "[encoded data removed]",
      "text/plain": [
       "<Figure size 432x288 with 1 Axes>"
      ]
     },
     "metadata": {},
     "output_type": "display_data"
    }
   ],
   "source": [
    "plt.hist(df1.EstimatedSalary, bins=8, rwidth=0.8)\n",
    "plt.xlabel('EstimatedSalary')\n",
    "plt.ylabel('Count')\n",
    "plt.yscale('log')\n",
    "plt.show()"
   ]
  },
  {
   "cell_type": "code",
   "execution_count": 24,
   "metadata": {},
   "outputs": [
    {
     "data": {
      "text/plain": [
       "199775.69996000003"
      ]
     },
     "execution_count": 24,
     "metadata": {},
     "output_type": "execute_result"
    }
   ],
   "source": [
    "#Detect and remove outliners of EstimatedSalary\n",
    "MaxThershold = df1['EstimatedSalary'].quantile(0.999)\n",
    "MaxThershold"
   ]
  },
  {
   "cell_type": "code",
   "execution_count": 25,
   "metadata": {},
   "outputs": [
    {
     "data": {
      "text/plain": [
       "2920.6087"
      ]
     },
     "execution_count": 25,
     "metadata": {},
     "output_type": "execute_result"
    }
   ],
   "source": [
    "MinThershold = df1['EstimatedSalary'].quantile(0.015)\n",
    "MinThershold"
   ]
  },
  {
   "cell_type": "code",
   "execution_count": 27,
   "metadata": {},
   "outputs": [
    {
     "data": {
      "text/html": [
       "<div>\n",
       "<style scoped>\n",
       "    .dataframe tbody tr th:only-of-type {\n",
       "        vertical-align: middle;\n",
       "    }\n",
       "\n",
       "    .dataframe tbody tr th {\n",
       "        vertical-align: top;\n",
       "    }\n",
       "\n",
       "    .dataframe thead th {\n",
       "        text-align: right;\n",
       "    }\n",
       "</style>\n",
       "<table border=\"1\" class=\"dataframe\">\n",
       "  <thead>\n",
       "    <tr style=\"text-align: right;\">\n",
       "      <th></th>\n",
       "      <th>CreditScore</th>\n",
       "      <th>Geography</th>\n",
       "      <th>Gender</th>\n",
       "      <th>Age</th>\n",
       "      <th>Tenure</th>\n",
       "      <th>Balance</th>\n",
       "      <th>NumOfProducts</th>\n",
       "      <th>HasCrCard</th>\n",
       "      <th>IsActiveMember</th>\n",
       "      <th>EstimatedSalary</th>\n",
       "      <th>Exited</th>\n",
       "    </tr>\n",
       "  </thead>\n",
       "  <tbody>\n",
       "    <tr>\n",
       "      <th>0</th>\n",
       "      <td>619</td>\n",
       "      <td>France</td>\n",
       "      <td>Female</td>\n",
       "      <td>42</td>\n",
       "      <td>2</td>\n",
       "      <td>0.00</td>\n",
       "      <td>1</td>\n",
       "      <td>1</td>\n",
       "      <td>1</td>\n",
       "      <td>101348.88</td>\n",
       "      <td>1</td>\n",
       "    </tr>\n",
       "    <tr>\n",
       "      <th>1</th>\n",
       "      <td>608</td>\n",
       "      <td>Spain</td>\n",
       "      <td>Female</td>\n",
       "      <td>41</td>\n",
       "      <td>1</td>\n",
       "      <td>83807.86</td>\n",
       "      <td>1</td>\n",
       "      <td>0</td>\n",
       "      <td>1</td>\n",
       "      <td>112542.58</td>\n",
       "      <td>0</td>\n",
       "    </tr>\n",
       "    <tr>\n",
       "      <th>2</th>\n",
       "      <td>502</td>\n",
       "      <td>France</td>\n",
       "      <td>Female</td>\n",
       "      <td>42</td>\n",
       "      <td>8</td>\n",
       "      <td>159660.80</td>\n",
       "      <td>3</td>\n",
       "      <td>1</td>\n",
       "      <td>0</td>\n",
       "      <td>113931.57</td>\n",
       "      <td>1</td>\n",
       "    </tr>\n",
       "    <tr>\n",
       "      <th>3</th>\n",
       "      <td>699</td>\n",
       "      <td>France</td>\n",
       "      <td>Female</td>\n",
       "      <td>39</td>\n",
       "      <td>1</td>\n",
       "      <td>0.00</td>\n",
       "      <td>2</td>\n",
       "      <td>0</td>\n",
       "      <td>0</td>\n",
       "      <td>93826.63</td>\n",
       "      <td>0</td>\n",
       "    </tr>\n",
       "    <tr>\n",
       "      <th>4</th>\n",
       "      <td>850</td>\n",
       "      <td>Spain</td>\n",
       "      <td>Female</td>\n",
       "      <td>43</td>\n",
       "      <td>2</td>\n",
       "      <td>125510.82</td>\n",
       "      <td>1</td>\n",
       "      <td>1</td>\n",
       "      <td>1</td>\n",
       "      <td>79084.10</td>\n",
       "      <td>0</td>\n",
       "    </tr>\n",
       "  </tbody>\n",
       "</table>\n",
       "</div>"
      ],
      "text/plain": [
       "   CreditScore Geography  Gender  Age  Tenure    Balance  NumOfProducts  \\\n",
       "0          619    France  Female   42       2       0.00              1   \n",
       "1          608     Spain  Female   41       1   83807.86              1   \n",
       "2          502    France  Female   42       8  159660.80              3   \n",
       "3          699    France  Female   39       1       0.00              2   \n",
       "4          850     Spain  Female   43       2  125510.82              1   \n",
       "\n",
       "   HasCrCard  IsActiveMember  EstimatedSalary  Exited  \n",
       "0          1               1        101348.88       1  \n",
       "1          0               1        112542.58       0  \n",
       "2          1               0        113931.57       1  \n",
       "3          0               0         93826.63       0  \n",
       "4          1               1         79084.10       0  "
      ]
     },
     "execution_count": 27,
     "metadata": {},
     "output_type": "execute_result"
    }
   ],
   "source": [
    "df2 = df1[(df1.EstimatedSalary < MaxThershold) & (df1.EstimatedSalary>MinThershold)]\n",
    "df2.head()"
   ]
  },
  {
   "cell_type": "code",
   "execution_count": 28,
   "metadata": {},
   "outputs": [
    {
     "data": {
      "text/plain": [
       "(9840, 11)"
      ]
     },
     "execution_count": 28,
     "metadata": {},
     "output_type": "execute_result"
    }
   ],
   "source": [
    "df2.shape"
   ]
  },
  {
   "cell_type": "code",
   "execution_count": 29,
   "metadata": {},
   "outputs": [
    {
     "data": {
      "image/png": "[encoded data removed]",
      "text/plain": [
       "<Figure size 432x288 with 1 Axes>"
      ]
     },
     "metadata": {},
     "output_type": "display_data"
    }
   ],
   "source": [
    "#Detect and remove outliner in Balance\n",
    "plt.hist(df2.Balance, bins = 5,rwidth=0.8)\n",
    "plt.xlabel('Balance')\n",
    "plt.ylabel('Count')\n",
    "plt.show()"
   ]
  },
  {
   "cell_type": "code",
   "execution_count": 31,
   "metadata": {},
   "outputs": [
    {
     "data": {
      "image/png": "[encoded data removed]",
      "text/plain": [
       "<Figure size 432x288 with 1 Axes>"
      ]
     },
     "metadata": {},
     "output_type": "display_data"
    }
   ],
   "source": [
    "plt.hist(df2.Balance, bins = 7,rwidth=0.8)\n",
    "plt.xlabel('Balance')\n",
    "plt.ylabel('Count')\n",
    "plt.yscale('log')\n",
    "plt.show()"
   ]
  },
  {
   "cell_type": "code",
   "execution_count": 32,
   "metadata": {},
   "outputs": [
    {
     "data": {
      "text/plain": [
       "212375.03934000072"
      ]
     },
     "execution_count": 32,
     "metadata": {},
     "output_type": "execute_result"
    }
   ],
   "source": [
    "MaxThershold = df2['Balance'].quantile(0.999)\n",
    "MaxThershold"
   ]
  },
  {
   "cell_type": "code",
   "execution_count": 33,
   "metadata": {},
   "outputs": [
    {
     "data": {
      "text/plain": [
       "52909.458799999964"
      ]
     },
     "execution_count": 33,
     "metadata": {},
     "output_type": "execute_result"
    }
   ],
   "source": [
    "MinThershold = df2['Balance'].quantile(0.370)\n",
    "MinThershold"
   ]
  },
  {
   "cell_type": "code",
   "execution_count": 36,
   "metadata": {},
   "outputs": [
    {
     "data": {
      "text/html": [
       "<div>\n",
       "<style scoped>\n",
       "    .dataframe tbody tr th:only-of-type {\n",
       "        vertical-align: middle;\n",
       "    }\n",
       "\n",
       "    .dataframe tbody tr th {\n",
       "        vertical-align: top;\n",
       "    }\n",
       "\n",
       "    .dataframe thead th {\n",
       "        text-align: right;\n",
       "    }\n",
       "</style>\n",
       "<table border=\"1\" class=\"dataframe\">\n",
       "  <thead>\n",
       "    <tr style=\"text-align: right;\">\n",
       "      <th></th>\n",
       "      <th>CreditScore</th>\n",
       "      <th>Geography</th>\n",
       "      <th>Gender</th>\n",
       "      <th>Age</th>\n",
       "      <th>Tenure</th>\n",
       "      <th>Balance</th>\n",
       "      <th>NumOfProducts</th>\n",
       "      <th>HasCrCard</th>\n",
       "      <th>IsActiveMember</th>\n",
       "      <th>EstimatedSalary</th>\n",
       "      <th>Exited</th>\n",
       "    </tr>\n",
       "  </thead>\n",
       "  <tbody>\n",
       "    <tr>\n",
       "      <th>1</th>\n",
       "      <td>608</td>\n",
       "      <td>Spain</td>\n",
       "      <td>Female</td>\n",
       "      <td>41</td>\n",
       "      <td>1</td>\n",
       "      <td>83807.86</td>\n",
       "      <td>1</td>\n",
       "      <td>0</td>\n",
       "      <td>1</td>\n",
       "      <td>112542.58</td>\n",
       "      <td>0</td>\n",
       "    </tr>\n",
       "    <tr>\n",
       "      <th>2</th>\n",
       "      <td>502</td>\n",
       "      <td>France</td>\n",
       "      <td>Female</td>\n",
       "      <td>42</td>\n",
       "      <td>8</td>\n",
       "      <td>159660.80</td>\n",
       "      <td>3</td>\n",
       "      <td>1</td>\n",
       "      <td>0</td>\n",
       "      <td>113931.57</td>\n",
       "      <td>1</td>\n",
       "    </tr>\n",
       "    <tr>\n",
       "      <th>4</th>\n",
       "      <td>850</td>\n",
       "      <td>Spain</td>\n",
       "      <td>Female</td>\n",
       "      <td>43</td>\n",
       "      <td>2</td>\n",
       "      <td>125510.82</td>\n",
       "      <td>1</td>\n",
       "      <td>1</td>\n",
       "      <td>1</td>\n",
       "      <td>79084.10</td>\n",
       "      <td>0</td>\n",
       "    </tr>\n",
       "    <tr>\n",
       "      <th>5</th>\n",
       "      <td>645</td>\n",
       "      <td>Spain</td>\n",
       "      <td>Male</td>\n",
       "      <td>44</td>\n",
       "      <td>8</td>\n",
       "      <td>113755.78</td>\n",
       "      <td>2</td>\n",
       "      <td>1</td>\n",
       "      <td>0</td>\n",
       "      <td>149756.71</td>\n",
       "      <td>1</td>\n",
       "    </tr>\n",
       "    <tr>\n",
       "      <th>7</th>\n",
       "      <td>376</td>\n",
       "      <td>Germany</td>\n",
       "      <td>Female</td>\n",
       "      <td>29</td>\n",
       "      <td>4</td>\n",
       "      <td>115046.74</td>\n",
       "      <td>4</td>\n",
       "      <td>1</td>\n",
       "      <td>0</td>\n",
       "      <td>119346.88</td>\n",
       "      <td>1</td>\n",
       "    </tr>\n",
       "  </tbody>\n",
       "</table>\n",
       "</div>"
      ],
      "text/plain": [
       "   CreditScore Geography  Gender  Age  Tenure    Balance  NumOfProducts  \\\n",
       "1          608     Spain  Female   41       1   83807.86              1   \n",
       "2          502    France  Female   42       8  159660.80              3   \n",
       "4          850     Spain  Female   43       2  125510.82              1   \n",
       "5          645     Spain    Male   44       8  113755.78              2   \n",
       "7          376   Germany  Female   29       4  115046.74              4   \n",
       "\n",
       "   HasCrCard  IsActiveMember  EstimatedSalary  Exited  \n",
       "1          0               1        112542.58       0  \n",
       "2          1               0        113931.57       1  \n",
       "4          1               1         79084.10       0  \n",
       "5          1               0        149756.71       1  \n",
       "7          1               0        119346.88       1  "
      ]
     },
     "execution_count": 36,
     "metadata": {},
     "output_type": "execute_result"
    }
   ],
   "source": [
    "df3 = df2[(df2.Balance < MaxThershold) & (df2.Balance>MinThershold)]\n",
    "df3.head()"
   ]
  },
  {
   "cell_type": "code",
   "execution_count": 37,
   "metadata": {},
   "outputs": [
    {
     "data": {
      "text/plain": [
       "(6189, 11)"
      ]
     },
     "execution_count": 37,
     "metadata": {},
     "output_type": "execute_result"
    }
   ],
   "source": [
    "df3.shape"
   ]
  },
  {
   "cell_type": "code",
   "execution_count": 38,
   "metadata": {},
   "outputs": [
    {
     "data": {
      "text/plain": [
       "CreditScore          int64\n",
       "Geography           object\n",
       "Gender              object\n",
       "Age                  int64\n",
       "Tenure               int64\n",
       "Balance            float64\n",
       "NumOfProducts        int64\n",
       "HasCrCard            int64\n",
       "IsActiveMember       int64\n",
       "EstimatedSalary    float64\n",
       "Exited               int64\n",
       "dtype: object"
      ]
     },
     "execution_count": 38,
     "metadata": {},
     "output_type": "execute_result"
    }
   ],
   "source": [
    "df3.dtypes"
   ]
  },
  {
   "cell_type": "code",
   "execution_count": 39,
   "metadata": {},
   "outputs": [
    {
     "data": {
      "text/plain": [
       "CreditScore        0\n",
       "Geography          0\n",
       "Gender             0\n",
       "Age                0\n",
       "Tenure             0\n",
       "Balance            0\n",
       "NumOfProducts      0\n",
       "HasCrCard          0\n",
       "IsActiveMember     0\n",
       "EstimatedSalary    0\n",
       "Exited             0\n",
       "dtype: int64"
      ]
     },
     "execution_count": 39,
     "metadata": {},
     "output_type": "execute_result"
    }
   ],
   "source": [
    "df3.isnull().sum()"
   ]
  },
  {
   "cell_type": "code",
   "execution_count": 40,
   "metadata": {},
   "outputs": [],
   "source": [
    "#Findout Missing value\n",
    "\n",
    "statistics_of_data = []\n",
    "for col in df3.columns:\n",
    "    statistics_of_data.append((col,\n",
    "                                df3[col].isnull().sum()*100/df3.shape[0],\n",
    "                                df3[col].dtype))\n",
    "    stats_df = pd.DataFrame(statistics_of_data,columns=['Feature','missing_val','type'])"
   ]
  },
  {
   "cell_type": "code",
   "execution_count": 41,
   "metadata": {},
   "outputs": [
    {
     "data": {
      "text/html": [
       "<div>\n",
       "<style scoped>\n",
       "    .dataframe tbody tr th:only-of-type {\n",
       "        vertical-align: middle;\n",
       "    }\n",
       "\n",
       "    .dataframe tbody tr th {\n",
       "        vertical-align: top;\n",
       "    }\n",
       "\n",
       "    .dataframe thead th {\n",
       "        text-align: right;\n",
       "    }\n",
       "</style>\n",
       "<table border=\"1\" class=\"dataframe\">\n",
       "  <thead>\n",
       "    <tr style=\"text-align: right;\">\n",
       "      <th></th>\n",
       "      <th>Feature</th>\n",
       "      <th>missing_val</th>\n",
       "      <th>type</th>\n",
       "    </tr>\n",
       "  </thead>\n",
       "  <tbody>\n",
       "    <tr>\n",
       "      <th>0</th>\n",
       "      <td>CreditScore</td>\n",
       "      <td>0.0</td>\n",
       "      <td>int64</td>\n",
       "    </tr>\n",
       "    <tr>\n",
       "      <th>1</th>\n",
       "      <td>Geography</td>\n",
       "      <td>0.0</td>\n",
       "      <td>object</td>\n",
       "    </tr>\n",
       "    <tr>\n",
       "      <th>2</th>\n",
       "      <td>Gender</td>\n",
       "      <td>0.0</td>\n",
       "      <td>object</td>\n",
       "    </tr>\n",
       "    <tr>\n",
       "      <th>3</th>\n",
       "      <td>Age</td>\n",
       "      <td>0.0</td>\n",
       "      <td>int64</td>\n",
       "    </tr>\n",
       "    <tr>\n",
       "      <th>4</th>\n",
       "      <td>Tenure</td>\n",
       "      <td>0.0</td>\n",
       "      <td>int64</td>\n",
       "    </tr>\n",
       "    <tr>\n",
       "      <th>5</th>\n",
       "      <td>Balance</td>\n",
       "      <td>0.0</td>\n",
       "      <td>float64</td>\n",
       "    </tr>\n",
       "    <tr>\n",
       "      <th>6</th>\n",
       "      <td>NumOfProducts</td>\n",
       "      <td>0.0</td>\n",
       "      <td>int64</td>\n",
       "    </tr>\n",
       "    <tr>\n",
       "      <th>7</th>\n",
       "      <td>HasCrCard</td>\n",
       "      <td>0.0</td>\n",
       "      <td>int64</td>\n",
       "    </tr>\n",
       "    <tr>\n",
       "      <th>8</th>\n",
       "      <td>IsActiveMember</td>\n",
       "      <td>0.0</td>\n",
       "      <td>int64</td>\n",
       "    </tr>\n",
       "    <tr>\n",
       "      <th>9</th>\n",
       "      <td>EstimatedSalary</td>\n",
       "      <td>0.0</td>\n",
       "      <td>float64</td>\n",
       "    </tr>\n",
       "    <tr>\n",
       "      <th>10</th>\n",
       "      <td>Exited</td>\n",
       "      <td>0.0</td>\n",
       "      <td>int64</td>\n",
       "    </tr>\n",
       "  </tbody>\n",
       "</table>\n",
       "</div>"
      ],
      "text/plain": [
       "            Feature  missing_val     type\n",
       "0       CreditScore          0.0    int64\n",
       "1         Geography          0.0   object\n",
       "2            Gender          0.0   object\n",
       "3               Age          0.0    int64\n",
       "4            Tenure          0.0    int64\n",
       "5           Balance          0.0  float64\n",
       "6     NumOfProducts          0.0    int64\n",
       "7         HasCrCard          0.0    int64\n",
       "8    IsActiveMember          0.0    int64\n",
       "9   EstimatedSalary          0.0  float64\n",
       "10           Exited          0.0    int64"
      ]
     },
     "execution_count": 41,
     "metadata": {},
     "output_type": "execute_result"
    }
   ],
   "source": [
    "stats_df.sort_values('missing_val', ascending = False)"
   ]
  },
  {
   "cell_type": "code",
   "execution_count": 49,
   "metadata": {},
   "outputs": [
    {
     "name": "stdout",
     "output_type": "stream",
     "text": [
      "9\n"
     ]
    },
    {
     "data": {
      "text/html": [
       "<div>\n",
       "<style scoped>\n",
       "    .dataframe tbody tr th:only-of-type {\n",
       "        vertical-align: middle;\n",
       "    }\n",
       "\n",
       "    .dataframe tbody tr th {\n",
       "        vertical-align: top;\n",
       "    }\n",
       "\n",
       "    .dataframe thead th {\n",
       "        text-align: right;\n",
       "    }\n",
       "</style>\n",
       "<table border=\"1\" class=\"dataframe\">\n",
       "  <thead>\n",
       "    <tr style=\"text-align: right;\">\n",
       "      <th></th>\n",
       "      <th>CreditScore</th>\n",
       "      <th>Age</th>\n",
       "      <th>Tenure</th>\n",
       "      <th>Balance</th>\n",
       "      <th>NumOfProducts</th>\n",
       "      <th>HasCrCard</th>\n",
       "      <th>IsActiveMember</th>\n",
       "      <th>EstimatedSalary</th>\n",
       "      <th>Exited</th>\n",
       "    </tr>\n",
       "  </thead>\n",
       "  <tbody>\n",
       "    <tr>\n",
       "      <th>1</th>\n",
       "      <td>608</td>\n",
       "      <td>41</td>\n",
       "      <td>1</td>\n",
       "      <td>83807.86</td>\n",
       "      <td>1</td>\n",
       "      <td>0</td>\n",
       "      <td>1</td>\n",
       "      <td>112542.58</td>\n",
       "      <td>0</td>\n",
       "    </tr>\n",
       "    <tr>\n",
       "      <th>2</th>\n",
       "      <td>502</td>\n",
       "      <td>42</td>\n",
       "      <td>8</td>\n",
       "      <td>159660.80</td>\n",
       "      <td>3</td>\n",
       "      <td>1</td>\n",
       "      <td>0</td>\n",
       "      <td>113931.57</td>\n",
       "      <td>1</td>\n",
       "    </tr>\n",
       "    <tr>\n",
       "      <th>4</th>\n",
       "      <td>850</td>\n",
       "      <td>43</td>\n",
       "      <td>2</td>\n",
       "      <td>125510.82</td>\n",
       "      <td>1</td>\n",
       "      <td>1</td>\n",
       "      <td>1</td>\n",
       "      <td>79084.10</td>\n",
       "      <td>0</td>\n",
       "    </tr>\n",
       "    <tr>\n",
       "      <th>5</th>\n",
       "      <td>645</td>\n",
       "      <td>44</td>\n",
       "      <td>8</td>\n",
       "      <td>113755.78</td>\n",
       "      <td>2</td>\n",
       "      <td>1</td>\n",
       "      <td>0</td>\n",
       "      <td>149756.71</td>\n",
       "      <td>1</td>\n",
       "    </tr>\n",
       "    <tr>\n",
       "      <th>7</th>\n",
       "      <td>376</td>\n",
       "      <td>29</td>\n",
       "      <td>4</td>\n",
       "      <td>115046.74</td>\n",
       "      <td>4</td>\n",
       "      <td>1</td>\n",
       "      <td>0</td>\n",
       "      <td>119346.88</td>\n",
       "      <td>1</td>\n",
       "    </tr>\n",
       "  </tbody>\n",
       "</table>\n",
       "</div>"
      ],
      "text/plain": [
       "   CreditScore  Age  Tenure    Balance  NumOfProducts  HasCrCard  \\\n",
       "1          608   41       1   83807.86              1          0   \n",
       "2          502   42       8  159660.80              3          1   \n",
       "4          850   43       2  125510.82              1          1   \n",
       "5          645   44       8  113755.78              2          1   \n",
       "7          376   29       4  115046.74              4          1   \n",
       "\n",
       "   IsActiveMember  EstimatedSalary  Exited  \n",
       "1               1        112542.58       0  \n",
       "2               0        113931.57       1  \n",
       "4               1         79084.10       0  \n",
       "5               0        149756.71       1  \n",
       "7               0        119346.88       1  "
      ]
     },
     "execution_count": 49,
     "metadata": {},
     "output_type": "execute_result"
    }
   ],
   "source": [
    "#Seperate out Numerical\n",
    "numerical_features = [feature for feature in df3.columns if df3[feature].dtypes != 'O' ]\n",
    "print(len(numerical_features))\n",
    "df3[numerical_features].head()"
   ]
  },
  {
   "cell_type": "code",
   "execution_count": 51,
   "metadata": {},
   "outputs": [
    {
     "name": "stdout",
     "output_type": "stream",
     "text": [
      "5\n"
     ]
    },
    {
     "data": {
      "text/plain": [
       "['Tenure', 'NumOfProducts', 'HasCrCard', 'IsActiveMember', 'Exited']"
      ]
     },
     "execution_count": 51,
     "metadata": {},
     "output_type": "execute_result"
    }
   ],
   "source": [
    "#1. Continus valriable and Discrete Variable\n",
    "\n",
    "discrete_feature = [feature for feature in numerical_features if len(df3[feature].unique()) < 25]\n",
    "print(len(discrete_feature))\n",
    "discrete_feature"
   ]
  },
  {
   "cell_type": "code",
   "execution_count": 54,
   "metadata": {},
   "outputs": [
    {
     "name": "stdout",
     "output_type": "stream",
     "text": [
      "Continuous Feature Count: 4\n"
     ]
    },
    {
     "data": {
      "text/html": [
       "<div>\n",
       "<style scoped>\n",
       "    .dataframe tbody tr th:only-of-type {\n",
       "        vertical-align: middle;\n",
       "    }\n",
       "\n",
       "    .dataframe tbody tr th {\n",
       "        vertical-align: top;\n",
       "    }\n",
       "\n",
       "    .dataframe thead th {\n",
       "        text-align: right;\n",
       "    }\n",
       "</style>\n",
       "<table border=\"1\" class=\"dataframe\">\n",
       "  <thead>\n",
       "    <tr style=\"text-align: right;\">\n",
       "      <th></th>\n",
       "      <th>CreditScore</th>\n",
       "      <th>Age</th>\n",
       "      <th>Balance</th>\n",
       "      <th>EstimatedSalary</th>\n",
       "    </tr>\n",
       "  </thead>\n",
       "  <tbody>\n",
       "    <tr>\n",
       "      <th>1</th>\n",
       "      <td>608</td>\n",
       "      <td>41</td>\n",
       "      <td>83807.86</td>\n",
       "      <td>112542.58</td>\n",
       "    </tr>\n",
       "    <tr>\n",
       "      <th>2</th>\n",
       "      <td>502</td>\n",
       "      <td>42</td>\n",
       "      <td>159660.80</td>\n",
       "      <td>113931.57</td>\n",
       "    </tr>\n",
       "    <tr>\n",
       "      <th>4</th>\n",
       "      <td>850</td>\n",
       "      <td>43</td>\n",
       "      <td>125510.82</td>\n",
       "      <td>79084.10</td>\n",
       "    </tr>\n",
       "    <tr>\n",
       "      <th>5</th>\n",
       "      <td>645</td>\n",
       "      <td>44</td>\n",
       "      <td>113755.78</td>\n",
       "      <td>149756.71</td>\n",
       "    </tr>\n",
       "    <tr>\n",
       "      <th>7</th>\n",
       "      <td>376</td>\n",
       "      <td>29</td>\n",
       "      <td>115046.74</td>\n",
       "      <td>119346.88</td>\n",
       "    </tr>\n",
       "  </tbody>\n",
       "</table>\n",
       "</div>"
      ],
      "text/plain": [
       "   CreditScore  Age    Balance  EstimatedSalary\n",
       "1          608   41   83807.86        112542.58\n",
       "2          502   42  159660.80        113931.57\n",
       "4          850   43  125510.82         79084.10\n",
       "5          645   44  113755.78        149756.71\n",
       "7          376   29  115046.74        119346.88"
      ]
     },
     "execution_count": 54,
     "metadata": {},
     "output_type": "execute_result"
    }
   ],
   "source": [
    "##2.Continus valriable\n",
    "\n",
    "continous_feature = [feature for feature in numerical_features if feature not in discrete_feature]\n",
    "print(\"Continuous Feature Count: {}\".format(len(continous_feature)))\n",
    "df3[continous_feature].head()"
   ]
  },
  {
   "cell_type": "code",
   "execution_count": 57,
   "metadata": {},
   "outputs": [],
   "source": [
    "def print_unique_col_values(df):\n",
    "    i=1\n",
    "    for column in df:\n",
    "        str = \"{i}.{a} column have {b} unique values\"\n",
    "        print(str.format(i=i, a=column,b=df[column].unique()))\n",
    "        i =i+1"
   ]
  },
  {
   "cell_type": "code",
   "execution_count": 58,
   "metadata": {},
   "outputs": [
    {
     "name": "stdout",
     "output_type": "stream",
     "text": [
      "1.Tenure column have [ 1  8  2  4  6  3  0  7  9  5 10] unique values\n",
      "2.NumOfProducts column have [1 3 2 4] unique values\n",
      "3.HasCrCard column have [0 1] unique values\n",
      "4.IsActiveMember column have [1 0] unique values\n",
      "5.Exited column have [0 1] unique values\n"
     ]
    }
   ],
   "source": [
    "print_unique_col_values(df3[discrete_feature])"
   ]
  },
  {
   "cell_type": "code",
   "execution_count": 59,
   "metadata": {},
   "outputs": [
    {
     "data": {
      "text/plain": [
       "<matplotlib.legend.Legend at 0x7f91cd9acf70>"
      ]
     },
     "execution_count": 59,
     "metadata": {},
     "output_type": "execute_result"
    },
    {
     "data": {
      "image/png": "[encoded data removed]",
      "text/plain": [
       "<Figure size 432x288 with 1 Axes>"
      ]
     },
     "metadata": {},
     "output_type": "display_data"
    }
   ],
   "source": [
    "#Now lets create visuals for comparison of continous/ discrete and target variable\n",
    "\n",
    "tenure_churn_no = df3[df3.Exited == 0].Tenure\n",
    "tenure_churn_yes = df3[df3.Exited == 1].Tenure\n",
    "\n",
    "plt.xlabel(\"Tenure\")\n",
    "plt.ylabel(\"Number of Customers\")\n",
    "plt.title(\"Customer Churn Prediction Visualiztion\")\n",
    "\n",
    "plt.hist([tenure_churn_yes,tenure_churn_no], rwidth = 0.95, color = ['red','green'],label=['Churn=1','Churn=0'])\n",
    "plt.legend()"
   ]
  },
  {
   "cell_type": "code",
   "execution_count": 62,
   "metadata": {},
   "outputs": [
    {
     "data": {
      "text/plain": [
       "<matplotlib.legend.Legend at 0x7f91cd63bfa0>"
      ]
     },
     "execution_count": 62,
     "metadata": {},
     "output_type": "execute_result"
    },
    {
     "data": {
      "image/png": "[encoded data removed]",
      "text/plain": [
       "<Figure size 432x288 with 1 Axes>"
      ]
     },
     "metadata": {},
     "output_type": "display_data"
    }
   ],
   "source": [
    "Age_churn_no = df3[df3.Exited == 0].Age\n",
    "Age_churn_yes = df3[df3.Exited == 1].Age\n",
    "\n",
    "plt.xlabel(\"Age\")\n",
    "plt.ylabel(\"Number of Customers\")\n",
    "plt.title(\"Customer Churn Prediction Visualiztion\")\n",
    "\n",
    "plt.hist([Age_churn_yes,Age_churn_no], rwidth = 0.95, color = ['red','green'],label=['Churn=1','Churn=0'])\n",
    "plt.legend()"
   ]
  },
  {
   "cell_type": "code",
   "execution_count": 63,
   "metadata": {},
   "outputs": [
    {
     "data": {
      "text/plain": [
       "<matplotlib.legend.Legend at 0x7f91cd7f5ac0>"
      ]
     },
     "execution_count": 63,
     "metadata": {},
     "output_type": "execute_result"
    },
    {
     "data": {
      "image/png": "[encoded data removed]",
      "text/plain": [
       "<Figure size 432x288 with 1 Axes>"
      ]
     },
     "metadata": {},
     "output_type": "display_data"
    }
   ],
   "source": [
    "Balance_churn_no = df3[df3.Exited == 0].Balance\n",
    "Balance_churn_yes = df3[df3.Exited == 1].Balance\n",
    "\n",
    "plt.xlabel(\"Balance\")\n",
    "plt.ylabel(\"Number of Customers\")\n",
    "plt.title(\"Customer Churn Prediction Visualiztion\")\n",
    "\n",
    "plt.hist([Balance_churn_yes,Balance_churn_no], rwidth = 0.95, color = ['red','green'],label=['Churn=1','Churn=0'])\n",
    "plt.legend()"
   ]
  },
  {
   "cell_type": "code",
   "execution_count": 64,
   "metadata": {},
   "outputs": [
    {
     "data": {
      "text/plain": [
       "<matplotlib.legend.Legend at 0x7f91cd843af0>"
      ]
     },
     "execution_count": 64,
     "metadata": {},
     "output_type": "execute_result"
    },
    {
     "data": {
      "image/png": "[encoded data removed]",
      "text/plain": [
       "<Figure size 432x288 with 1 Axes>"
      ]
     },
     "metadata": {},
     "output_type": "display_data"
    }
   ],
   "source": [
    "EstimatedSalary_churn_no = df3[df3.Exited == 0].EstimatedSalary\n",
    "EstimatedSalary_churn_yes = df3[df3.Exited == 1].EstimatedSalary\n",
    "\n",
    "plt.xlabel(\"EstimatedSalary\")\n",
    "plt.ylabel(\"Number of Customers\")\n",
    "plt.title(\"Customer Churn Prediction Visualiztion\")\n",
    "\n",
    "plt.hist([EstimatedSalary_churn_yes,EstimatedSalary_churn_no], rwidth = 0.95, color = ['red','green'],label=['Churn=1','Churn=0'])\n",
    "plt.legend()"
   ]
  },
  {
   "cell_type": "code",
   "execution_count": 65,
   "metadata": {},
   "outputs": [
    {
     "data": {
      "text/plain": [
       "2"
      ]
     },
     "execution_count": 65,
     "metadata": {},
     "output_type": "execute_result"
    }
   ],
   "source": [
    "#Now lets seperate our categorial feature so that we can add other transformation upon them\n",
    "\n",
    "categoricalVariable = [feature for feature in df3.columns if df2[feature].dtype == 'O']\n",
    "len(categoricalVariable)"
   ]
  },
  {
   "cell_type": "code",
   "execution_count": 66,
   "metadata": {},
   "outputs": [
    {
     "data": {
      "text/html": [
       "<div>\n",
       "<style scoped>\n",
       "    .dataframe tbody tr th:only-of-type {\n",
       "        vertical-align: middle;\n",
       "    }\n",
       "\n",
       "    .dataframe tbody tr th {\n",
       "        vertical-align: top;\n",
       "    }\n",
       "\n",
       "    .dataframe thead th {\n",
       "        text-align: right;\n",
       "    }\n",
       "</style>\n",
       "<table border=\"1\" class=\"dataframe\">\n",
       "  <thead>\n",
       "    <tr style=\"text-align: right;\">\n",
       "      <th></th>\n",
       "      <th>Geography</th>\n",
       "      <th>Gender</th>\n",
       "    </tr>\n",
       "  </thead>\n",
       "  <tbody>\n",
       "    <tr>\n",
       "      <th>1</th>\n",
       "      <td>Spain</td>\n",
       "      <td>Female</td>\n",
       "    </tr>\n",
       "    <tr>\n",
       "      <th>2</th>\n",
       "      <td>France</td>\n",
       "      <td>Female</td>\n",
       "    </tr>\n",
       "    <tr>\n",
       "      <th>4</th>\n",
       "      <td>Spain</td>\n",
       "      <td>Female</td>\n",
       "    </tr>\n",
       "    <tr>\n",
       "      <th>5</th>\n",
       "      <td>Spain</td>\n",
       "      <td>Male</td>\n",
       "    </tr>\n",
       "    <tr>\n",
       "      <th>7</th>\n",
       "      <td>Germany</td>\n",
       "      <td>Female</td>\n",
       "    </tr>\n",
       "  </tbody>\n",
       "</table>\n",
       "</div>"
      ],
      "text/plain": [
       "  Geography  Gender\n",
       "1     Spain  Female\n",
       "2    France  Female\n",
       "4     Spain  Female\n",
       "5     Spain    Male\n",
       "7   Germany  Female"
      ]
     },
     "execution_count": 66,
     "metadata": {},
     "output_type": "execute_result"
    }
   ],
   "source": [
    "df3[categoricalVariable].head()"
   ]
  },
  {
   "cell_type": "code",
   "execution_count": 68,
   "metadata": {},
   "outputs": [],
   "source": [
    "df3['Gender'].replace({'Female' :1, 'Male':0}, inplace=True)"
   ]
  },
  {
   "cell_type": "code",
   "execution_count": 70,
   "metadata": {},
   "outputs": [
    {
     "data": {
      "text/html": [
       "<div>\n",
       "<style scoped>\n",
       "    .dataframe tbody tr th:only-of-type {\n",
       "        vertical-align: middle;\n",
       "    }\n",
       "\n",
       "    .dataframe tbody tr th {\n",
       "        vertical-align: top;\n",
       "    }\n",
       "\n",
       "    .dataframe thead th {\n",
       "        text-align: right;\n",
       "    }\n",
       "</style>\n",
       "<table border=\"1\" class=\"dataframe\">\n",
       "  <thead>\n",
       "    <tr style=\"text-align: right;\">\n",
       "      <th></th>\n",
       "      <th>CreditScore</th>\n",
       "      <th>Geography</th>\n",
       "      <th>Gender</th>\n",
       "      <th>Age</th>\n",
       "      <th>Tenure</th>\n",
       "      <th>Balance</th>\n",
       "      <th>NumOfProducts</th>\n",
       "      <th>HasCrCard</th>\n",
       "      <th>IsActiveMember</th>\n",
       "      <th>EstimatedSalary</th>\n",
       "      <th>Exited</th>\n",
       "    </tr>\n",
       "  </thead>\n",
       "  <tbody>\n",
       "    <tr>\n",
       "      <th>1</th>\n",
       "      <td>608</td>\n",
       "      <td>Spain</td>\n",
       "      <td>1</td>\n",
       "      <td>41</td>\n",
       "      <td>1</td>\n",
       "      <td>83807.86</td>\n",
       "      <td>1</td>\n",
       "      <td>0</td>\n",
       "      <td>1</td>\n",
       "      <td>112542.58</td>\n",
       "      <td>0</td>\n",
       "    </tr>\n",
       "    <tr>\n",
       "      <th>2</th>\n",
       "      <td>502</td>\n",
       "      <td>France</td>\n",
       "      <td>1</td>\n",
       "      <td>42</td>\n",
       "      <td>8</td>\n",
       "      <td>159660.80</td>\n",
       "      <td>3</td>\n",
       "      <td>1</td>\n",
       "      <td>0</td>\n",
       "      <td>113931.57</td>\n",
       "      <td>1</td>\n",
       "    </tr>\n",
       "    <tr>\n",
       "      <th>4</th>\n",
       "      <td>850</td>\n",
       "      <td>Spain</td>\n",
       "      <td>1</td>\n",
       "      <td>43</td>\n",
       "      <td>2</td>\n",
       "      <td>125510.82</td>\n",
       "      <td>1</td>\n",
       "      <td>1</td>\n",
       "      <td>1</td>\n",
       "      <td>79084.10</td>\n",
       "      <td>0</td>\n",
       "    </tr>\n",
       "    <tr>\n",
       "      <th>5</th>\n",
       "      <td>645</td>\n",
       "      <td>Spain</td>\n",
       "      <td>0</td>\n",
       "      <td>44</td>\n",
       "      <td>8</td>\n",
       "      <td>113755.78</td>\n",
       "      <td>2</td>\n",
       "      <td>1</td>\n",
       "      <td>0</td>\n",
       "      <td>149756.71</td>\n",
       "      <td>1</td>\n",
       "    </tr>\n",
       "    <tr>\n",
       "      <th>7</th>\n",
       "      <td>376</td>\n",
       "      <td>Germany</td>\n",
       "      <td>1</td>\n",
       "      <td>29</td>\n",
       "      <td>4</td>\n",
       "      <td>115046.74</td>\n",
       "      <td>4</td>\n",
       "      <td>1</td>\n",
       "      <td>0</td>\n",
       "      <td>119346.88</td>\n",
       "      <td>1</td>\n",
       "    </tr>\n",
       "  </tbody>\n",
       "</table>\n",
       "</div>"
      ],
      "text/plain": [
       "   CreditScore Geography  Gender  Age  Tenure    Balance  NumOfProducts  \\\n",
       "1          608     Spain       1   41       1   83807.86              1   \n",
       "2          502    France       1   42       8  159660.80              3   \n",
       "4          850     Spain       1   43       2  125510.82              1   \n",
       "5          645     Spain       0   44       8  113755.78              2   \n",
       "7          376   Germany       1   29       4  115046.74              4   \n",
       "\n",
       "   HasCrCard  IsActiveMember  EstimatedSalary  Exited  \n",
       "1          0               1        112542.58       0  \n",
       "2          1               0        113931.57       1  \n",
       "4          1               1         79084.10       0  \n",
       "5          1               0        149756.71       1  \n",
       "7          1               0        119346.88       1  "
      ]
     },
     "execution_count": 70,
     "metadata": {},
     "output_type": "execute_result"
    }
   ],
   "source": [
    "df3.head()"
   ]
  },
  {
   "cell_type": "code",
   "execution_count": 71,
   "metadata": {},
   "outputs": [
    {
     "data": {
      "text/plain": [
       "Index(['CreditScore', 'Gender', 'Age', 'Tenure', 'Balance', 'NumOfProducts',\n",
       "       'HasCrCard', 'IsActiveMember', 'EstimatedSalary', 'Exited',\n",
       "       'Geography_France', 'Geography_Germany', 'Geography_Spain'],\n",
       "      dtype='object')"
      ]
     },
     "execution_count": 71,
     "metadata": {},
     "output_type": "execute_result"
    }
   ],
   "source": [
    "df4 = pd.get_dummies(data=df3, columns=['Geography'])\n",
    "df4.columns"
   ]
  },
  {
   "cell_type": "code",
   "execution_count": 72,
   "metadata": {},
   "outputs": [
    {
     "data": {
      "text/plain": [
       "(6189, 13)"
      ]
     },
     "execution_count": 72,
     "metadata": {},
     "output_type": "execute_result"
    }
   ],
   "source": [
    "df4.shape"
   ]
  },
  {
   "cell_type": "code",
   "execution_count": 73,
   "metadata": {},
   "outputs": [
    {
     "data": {
      "text/html": [
       "<div>\n",
       "<style scoped>\n",
       "    .dataframe tbody tr th:only-of-type {\n",
       "        vertical-align: middle;\n",
       "    }\n",
       "\n",
       "    .dataframe tbody tr th {\n",
       "        vertical-align: top;\n",
       "    }\n",
       "\n",
       "    .dataframe thead th {\n",
       "        text-align: right;\n",
       "    }\n",
       "</style>\n",
       "<table border=\"1\" class=\"dataframe\">\n",
       "  <thead>\n",
       "    <tr style=\"text-align: right;\">\n",
       "      <th></th>\n",
       "      <th>CreditScore</th>\n",
       "      <th>Gender</th>\n",
       "      <th>Age</th>\n",
       "      <th>Tenure</th>\n",
       "      <th>Balance</th>\n",
       "      <th>NumOfProducts</th>\n",
       "      <th>HasCrCard</th>\n",
       "      <th>IsActiveMember</th>\n",
       "      <th>EstimatedSalary</th>\n",
       "      <th>Exited</th>\n",
       "      <th>Geography_France</th>\n",
       "      <th>Geography_Germany</th>\n",
       "      <th>Geography_Spain</th>\n",
       "    </tr>\n",
       "  </thead>\n",
       "  <tbody>\n",
       "    <tr>\n",
       "      <th>1599</th>\n",
       "      <td>670</td>\n",
       "      <td>1</td>\n",
       "      <td>42</td>\n",
       "      <td>1</td>\n",
       "      <td>115961.58</td>\n",
       "      <td>2</td>\n",
       "      <td>0</td>\n",
       "      <td>1</td>\n",
       "      <td>29483.87</td>\n",
       "      <td>0</td>\n",
       "      <td>1</td>\n",
       "      <td>0</td>\n",
       "      <td>0</td>\n",
       "    </tr>\n",
       "    <tr>\n",
       "      <th>8801</th>\n",
       "      <td>510</td>\n",
       "      <td>1</td>\n",
       "      <td>52</td>\n",
       "      <td>6</td>\n",
       "      <td>191665.21</td>\n",
       "      <td>1</td>\n",
       "      <td>1</td>\n",
       "      <td>1</td>\n",
       "      <td>131312.56</td>\n",
       "      <td>1</td>\n",
       "      <td>1</td>\n",
       "      <td>0</td>\n",
       "      <td>0</td>\n",
       "    </tr>\n",
       "    <tr>\n",
       "      <th>5441</th>\n",
       "      <td>751</td>\n",
       "      <td>0</td>\n",
       "      <td>29</td>\n",
       "      <td>1</td>\n",
       "      <td>135536.50</td>\n",
       "      <td>1</td>\n",
       "      <td>1</td>\n",
       "      <td>0</td>\n",
       "      <td>66825.33</td>\n",
       "      <td>0</td>\n",
       "      <td>1</td>\n",
       "      <td>0</td>\n",
       "      <td>0</td>\n",
       "    </tr>\n",
       "    <tr>\n",
       "      <th>7475</th>\n",
       "      <td>698</td>\n",
       "      <td>0</td>\n",
       "      <td>31</td>\n",
       "      <td>1</td>\n",
       "      <td>156111.24</td>\n",
       "      <td>1</td>\n",
       "      <td>0</td>\n",
       "      <td>0</td>\n",
       "      <td>134790.74</td>\n",
       "      <td>0</td>\n",
       "      <td>1</td>\n",
       "      <td>0</td>\n",
       "      <td>0</td>\n",
       "    </tr>\n",
       "    <tr>\n",
       "      <th>8026</th>\n",
       "      <td>607</td>\n",
       "      <td>1</td>\n",
       "      <td>33</td>\n",
       "      <td>8</td>\n",
       "      <td>91301.72</td>\n",
       "      <td>1</td>\n",
       "      <td>0</td>\n",
       "      <td>1</td>\n",
       "      <td>130824.57</td>\n",
       "      <td>0</td>\n",
       "      <td>1</td>\n",
       "      <td>0</td>\n",
       "      <td>0</td>\n",
       "    </tr>\n",
       "  </tbody>\n",
       "</table>\n",
       "</div>"
      ],
      "text/plain": [
       "      CreditScore  Gender  Age  Tenure    Balance  NumOfProducts  HasCrCard  \\\n",
       "1599          670       1   42       1  115961.58              2          0   \n",
       "8801          510       1   52       6  191665.21              1          1   \n",
       "5441          751       0   29       1  135536.50              1          1   \n",
       "7475          698       0   31       1  156111.24              1          0   \n",
       "8026          607       1   33       8   91301.72              1          0   \n",
       "\n",
       "      IsActiveMember  EstimatedSalary  Exited  Geography_France  \\\n",
       "1599               1         29483.87       0                 1   \n",
       "8801               1        131312.56       1                 1   \n",
       "5441               0         66825.33       0                 1   \n",
       "7475               0        134790.74       0                 1   \n",
       "8026               1        130824.57       0                 1   \n",
       "\n",
       "      Geography_Germany  Geography_Spain  \n",
       "1599                  0                0  \n",
       "8801                  0                0  \n",
       "5441                  0                0  \n",
       "7475                  0                0  \n",
       "8026                  0                0  "
      ]
     },
     "execution_count": 73,
     "metadata": {},
     "output_type": "execute_result"
    }
   ],
   "source": [
    "df4.sample(5)"
   ]
  },
  {
   "cell_type": "code",
   "execution_count": 74,
   "metadata": {},
   "outputs": [
    {
     "data": {
      "text/plain": [
       "['CreditScore', 'Age', 'Balance', 'EstimatedSalary']"
      ]
     },
     "execution_count": 74,
     "metadata": {},
     "output_type": "execute_result"
    }
   ],
   "source": [
    "#Data Scaling of continous data\n",
    "\n",
    "continous_feature"
   ]
  },
  {
   "cell_type": "code",
   "execution_count": 90,
   "metadata": {},
   "outputs": [],
   "source": [
    "#Data Scaling --->Continus data Only\n",
    "\n",
    "from sklearn.preprocessing import MinMaxScaler\n",
    "scaler = MinMaxScaler()\n",
    "df4[continous_feature] = scaler.fit_transform(df4[continous_feature])"
   ]
  },
  {
   "cell_type": "code",
   "execution_count": 91,
   "metadata": {},
   "outputs": [
    {
     "name": "stdout",
     "output_type": "stream",
     "text": [
      "1.CreditScore column have [0.516 0.304 1.    0.59  0.052 0.302 0.668 0.356 0.532 0.606 0.812 0.448\n",
      " 0.122 0.366 0.406 0.25  0.28  0.908 0.464 0.23  0.412 0.968 0.62  0.852\n",
      " 0.958 0.574 0.4   0.696 0.47  0.61  0.502 0.538 0.612 0.75  0.784 0.674\n",
      " 0.41  0.506 0.802 0.462 0.77  0.622 0.65  0.776 0.614 0.508 0.814 0.132\n",
      " 0.63  0.312 0.8   0.57  0.916 0.33  0.846 0.928 0.544 0.87  0.51  0.258\n",
      " 0.67  0.376 0.424 0.742 0.556 0.636 0.348 0.698 0.956 0.648 0.164 0.55\n",
      " 0.84  0.89  0.878 0.478 0.222 0.458 0.664 0.27  0.6   0.378 0.592 0.562\n",
      " 0.734 0.9   0.666 0.708 0.53  0.268 0.26  0.456 0.512 0.494 0.808 0.856\n",
      " 0.76  0.73  0.324 0.46  0.342 0.818 0.722 0.536 0.642 0.678 0.652 0.444\n",
      " 0.914 0.752 0.64  0.394 0.488 0.834 0.826 0.706 0.618 0.844 0.568 0.778\n",
      " 0.842 0.388 0.686 0.764 0.414 0.362 0.766 0.922 0.724 0.898 0.504 0.788\n",
      " 0.794 0.728 0.322 0.634 0.558 0.528 0.176 0.758 0.912 0.418 0.158 0.35\n",
      " 0.66  0.798 0.732 0.588 0.628 0.626 0.468 0.552 0.91  0.584 0.56  0.586\n",
      " 0.608 0.824 0.436 0.526 0.344 0.774 0.596 0.186 0.38  0.22  0.486 0.902\n",
      " 0.58  0.522 0.904 0.79  0.68  0.284 0.718 0.71  0.804 0.374 0.274 0.37\n",
      " 0.704 0.272 0.748 0.396 0.39  0.554 0.332 0.228 0.368 0.796 0.288 0.484\n",
      " 0.48  0.816 0.328 0.236 0.318 0.624 0.932 0.848 0.542 0.616 0.876 0.384\n",
      " 0.482 0.72  0.578 0.646 0.83  0.576 0.682 0.564 0.768 0.858 0.714 0.354\n",
      " 0.692 0.338 0.386 0.428 0.966 0.984 0.316 0.474 0.496 0.514 0.996 0.178\n",
      " 0.81  0.594 0.82  0.726 0.632 0.29  0.676 0.524 0.392 0.656 0.254 0.154\n",
      " 0.466 0.978 0.712 0.938 0.218 0.296 0.398 0.688 0.69  0.548 0.264 0.602\n",
      " 0.838 0.582 0.892 0.19  0.638 0.672 0.408 0.644 0.874 0.684 0.988 0.2\n",
      " 0.754 0.976 0.906 0.566 0.5   0.74  0.572 0.658 0.884 0.786 0.822 0.276\n",
      " 0.662 0.142 0.294 0.982 0.314 0.936 0.31  0.434 0.782 0.212 0.744 0.336\n",
      " 0.43  0.17  0.756 0.346 0.438 0.34  0.828 0.85  0.694 0.442 0.358 0.426\n",
      " 0.598 0.472 0.604 0.402 0.432 0.738 0.382 0.736 0.476 0.924 0.654 0.88\n",
      " 0.14  0.762 0.534 0.3   0.7   0.952 0.168 0.256 0.702 0.026 0.098 0.226\n",
      " 0.86  0.882 0.372 0.792 0.298 0.974 0.746 0.948 0.946 0.862 0.998 0.278\n",
      " 0.888 0.162 0.214 0.836 0.962 0.422 0.018 0.188 0.306 0.94  0.404 0.452\n",
      " 0.308 0.416 0.934 0.334 0.49  0.492 0.518 0.13  0.446 0.36  0.772 0.\n",
      " 0.44  0.54  0.204 0.832 0.454 0.32  0.896 0.15  0.78  0.262 0.156 0.016\n",
      " 0.252 0.99  0.864 0.98  0.238 0.146 0.108 0.972 0.352 0.716 0.97  0.232\n",
      " 0.282 0.246 0.52  0.498 0.546 0.93  0.886 0.866 0.002 0.202 0.806 0.326\n",
      " 0.03  0.364 0.206 0.242 0.244 0.102 0.942 0.45  0.872 0.894 0.266 0.92\n",
      " 0.964 0.954 0.42  0.292 0.926 0.16  0.248 0.95  0.24  0.868 0.854 0.116\n",
      " 0.994 0.192 0.286 0.216 0.918 0.194 0.174 0.144 0.986 0.12  0.208 0.944\n",
      " 0.224 0.072 0.198 0.11  0.066 0.09  0.126 0.21  0.172 0.136 0.196 0.182\n",
      " 0.234 0.034 0.166 0.992 0.96  0.138] unique values\n",
      "2.Gender column have [1 0] unique values\n",
      "3.Age column have [0.31081081 0.32432432 0.33783784 0.35135135 0.14864865 0.12162162\n",
      " 0.17567568 0.36486486 0.54054054 0.24324324 0.2027027  0.44594595\n",
      " 0.58108108 0.41891892 0.18918919 0.28378378 0.27027027 0.25675676\n",
      " 0.01351351 0.22972973 0.51351351 0.10810811 0.21621622 0.04054054\n",
      " 0.09459459 0.05405405 0.13513514 0.37837838 0.16216216 0.40540541\n",
      " 0.08108108 0.43243243 0.2972973  0.74324324 0.5        0.39189189\n",
      " 0.02702703 0.66216216 0.48648649 0.55405405 0.52702703 0.77027027\n",
      " 0.64864865 0.45945946 0.56756757 0.59459459 0.60810811 0.47297297\n",
      " 0.62162162 0.         0.63513514 0.68918919 0.75675676 0.7027027\n",
      " 0.78378378 0.67567568 0.06756757 0.72972973 0.7972973  0.89189189\n",
      " 0.82432432 0.71621622 0.85135135 1.         0.87837838 0.81081081] unique values\n",
      "4.Tenure column have [ 1  8  2  4  6  3  0  7  9  5 10] unique values\n",
      "5.Balance column have [0.1933109  0.66947278 0.45509851 ... 0.02734651 0.13849289 0.4841754 ] unique values\n",
      "6.NumOfProducts column have [1 3 2 4] unique values\n",
      "7.HasCrCard column have [0 1] unique values\n",
      "8.IsActiveMember column have [1 0] unique values\n",
      "9.EstimatedSalary column have [0.55690034 0.56395686 0.38692028 ... 0.5018153  0.45705126 0.1791688 ] unique values\n",
      "10.Exited column have [0 1] unique values\n",
      "11.Geography_France column have [0 1] unique values\n",
      "12.Geography_Germany column have [0 1] unique values\n",
      "13.Geography_Spain column have [1 0] unique values\n"
     ]
    }
   ],
   "source": [
    "i=1\n",
    "for col in df4:\n",
    "    str =\"{i}.{a} column have {b} unique values\"\n",
    "    print(str.format(i=i, a=col,b=df4[col].unique()))\n",
    "    i=i+1"
   ]
  },
  {
   "cell_type": "code",
   "execution_count": 92,
   "metadata": {},
   "outputs": [],
   "source": [
    "X = df4.drop('Exited', axis = 1)\n",
    "y = df4['Exited']\n",
    "\n",
    "from sklearn.model_selection import train_test_split\n",
    "X_train, X_test, y_train, y_test = train_test_split(X,y,test_size=0.15,random_state=5)"
   ]
  },
  {
   "cell_type": "code",
   "execution_count": 93,
   "metadata": {},
   "outputs": [
    {
     "data": {
      "text/plain": [
       "((5260, 12), (929, 12), (5260,), (929,))"
      ]
     },
     "execution_count": 93,
     "metadata": {},
     "output_type": "execute_result"
    }
   ],
   "source": [
    "X_train.shape, X_test.shape, y_train.shape, y_test.shape"
   ]
  },
  {
   "cell_type": "code",
   "execution_count": 94,
   "metadata": {},
   "outputs": [
    {
     "data": {
      "text/plain": [
       "12"
      ]
     },
     "execution_count": 94,
     "metadata": {},
     "output_type": "execute_result"
    }
   ],
   "source": [
    "len(X_train.columns)"
   ]
  },
  {
   "cell_type": "markdown",
   "metadata": {},
   "source": [
    "# Now we are Builiding a Deep Learning Model(ANN)"
   ]
  },
  {
   "cell_type": "code",
   "execution_count": 95,
   "metadata": {},
   "outputs": [],
   "source": [
    "import tensorflow as tf\n",
    "from tensorflow import keras"
   ]
  },
  {
   "cell_type": "code",
   "execution_count": 110,
   "metadata": {},
   "outputs": [],
   "source": [
    "model_ChurnBankPred = keras.Sequential([\n",
    "    keras.layers.Dense(12, input_shape=(12,), activation='relu'),\n",
    "    keras.layers.Dense(17, activation='relu'),\n",
    "    keras.layers.Dense(1, activation='sigmoid')\n",
    "])"
   ]
  },
  {
   "cell_type": "code",
   "execution_count": 111,
   "metadata": {},
   "outputs": [],
   "source": [
    "model_ChurnBankPred.compile(optimizer='adam',\n",
    "              loss='binary_crossentropy',\n",
    "              metrics=['accuracy'])"
   ]
  },
  {
   "cell_type": "code",
   "execution_count": 112,
   "metadata": {},
   "outputs": [
    {
     "name": "stdout",
     "output_type": "stream",
     "text": [
      "Epoch 1/200\n",
      "165/165 [==============================] - 1s 1ms/step - loss: 0.5766 - accuracy: 0.7454\n",
      "Epoch 2/200\n",
      "165/165 [==============================] - 0s 2ms/step - loss: 0.5311 - accuracy: 0.7626\n",
      "Epoch 3/200\n",
      "165/165 [==============================] - 0s 3ms/step - loss: 0.5240 - accuracy: 0.7588\n",
      "Epoch 4/200\n",
      "165/165 [==============================] - 0s 2ms/step - loss: 0.5107 - accuracy: 0.7678\n",
      "Epoch 5/200\n",
      "165/165 [==============================] - 0s 2ms/step - loss: 0.5219 - accuracy: 0.7515\n",
      "Epoch 6/200\n",
      "165/165 [==============================] - 0s 1ms/step - loss: 0.5107 - accuracy: 0.7648\n",
      "Epoch 7/200\n",
      "165/165 [==============================] - 0s 1ms/step - loss: 0.4924 - accuracy: 0.7699\n",
      "Epoch 8/200\n",
      "165/165 [==============================] - 0s 1ms/step - loss: 0.4872 - accuracy: 0.7765\n",
      "Epoch 9/200\n",
      "165/165 [==============================] - 0s 1ms/step - loss: 0.4854 - accuracy: 0.7708\n",
      "Epoch 10/200\n",
      "165/165 [==============================] - 0s 2ms/step - loss: 0.4727 - accuracy: 0.7835\n",
      "Epoch 11/200\n",
      "165/165 [==============================] - 0s 1ms/step - loss: 0.4792 - accuracy: 0.7851\n",
      "Epoch 12/200\n",
      "165/165 [==============================] - 0s 2ms/step - loss: 0.4572 - accuracy: 0.7974\n",
      "Epoch 13/200\n",
      "165/165 [==============================] - 0s 1ms/step - loss: 0.4564 - accuracy: 0.7969\n",
      "Epoch 14/200\n",
      "165/165 [==============================] - 0s 3ms/step - loss: 0.4580 - accuracy: 0.7891\n",
      "Epoch 15/200\n",
      "165/165 [==============================] - 0s 2ms/step - loss: 0.4522 - accuracy: 0.7987\n",
      "Epoch 16/200\n",
      "165/165 [==============================] - 0s 2ms/step - loss: 0.4368 - accuracy: 0.8106\n",
      "Epoch 17/200\n",
      "165/165 [==============================] - 0s 2ms/step - loss: 0.4428 - accuracy: 0.8123\n",
      "Epoch 18/200\n",
      "165/165 [==============================] - 0s 2ms/step - loss: 0.4288 - accuracy: 0.8125\n",
      "Epoch 19/200\n",
      "165/165 [==============================] - 0s 2ms/step - loss: 0.4380 - accuracy: 0.8099\n",
      "Epoch 20/200\n",
      "165/165 [==============================] - 0s 1ms/step - loss: 0.4308 - accuracy: 0.8150\n",
      "Epoch 21/200\n",
      "165/165 [==============================] - 0s 1ms/step - loss: 0.4214 - accuracy: 0.8177\n",
      "Epoch 22/200\n",
      "165/165 [==============================] - 0s 1ms/step - loss: 0.4113 - accuracy: 0.8261\n",
      "Epoch 23/200\n",
      "165/165 [==============================] - 0s 2ms/step - loss: 0.4189 - accuracy: 0.8162\n",
      "Epoch 24/200\n",
      "165/165 [==============================] - 0s 2ms/step - loss: 0.4127 - accuracy: 0.8232\n",
      "Epoch 25/200\n",
      "165/165 [==============================] - 0s 2ms/step - loss: 0.4077 - accuracy: 0.8229: 0s - loss: 0.4072 - accuracy: 0.\n",
      "Epoch 26/200\n",
      "165/165 [==============================] - 0s 2ms/step - loss: 0.4161 - accuracy: 0.8222\n",
      "Epoch 27/200\n",
      "165/165 [==============================] - 0s 2ms/step - loss: 0.4046 - accuracy: 0.8268\n",
      "Epoch 28/200\n",
      "165/165 [==============================] - 0s 2ms/step - loss: 0.4087 - accuracy: 0.8215\n",
      "Epoch 29/200\n",
      "165/165 [==============================] - 0s 2ms/step - loss: 0.4141 - accuracy: 0.8165\n",
      "Epoch 30/200\n",
      "165/165 [==============================] - 0s 2ms/step - loss: 0.4078 - accuracy: 0.8323\n",
      "Epoch 31/200\n",
      "165/165 [==============================] - 0s 2ms/step - loss: 0.4032 - accuracy: 0.8271\n",
      "Epoch 32/200\n",
      "165/165 [==============================] - 0s 1ms/step - loss: 0.3954 - accuracy: 0.8295\n",
      "Epoch 33/200\n",
      "165/165 [==============================] - 0s 2ms/step - loss: 0.4023 - accuracy: 0.8265\n",
      "Epoch 34/200\n",
      "165/165 [==============================] - 0s 2ms/step - loss: 0.4157 - accuracy: 0.8198\n",
      "Epoch 35/200\n",
      "165/165 [==============================] - 0s 2ms/step - loss: 0.3971 - accuracy: 0.8305\n",
      "Epoch 36/200\n",
      "165/165 [==============================] - 0s 2ms/step - loss: 0.4010 - accuracy: 0.8358\n",
      "Epoch 37/200\n",
      "165/165 [==============================] - 0s 1ms/step - loss: 0.3967 - accuracy: 0.8329\n",
      "Epoch 38/200\n",
      "165/165 [==============================] - 0s 1ms/step - loss: 0.4047 - accuracy: 0.8247\n",
      "Epoch 39/200\n",
      "165/165 [==============================] - 0s 2ms/step - loss: 0.3979 - accuracy: 0.8258\n",
      "Epoch 40/200\n",
      "165/165 [==============================] - 0s 2ms/step - loss: 0.3952 - accuracy: 0.8315\n",
      "Epoch 41/200\n",
      "165/165 [==============================] - 0s 2ms/step - loss: 0.3841 - accuracy: 0.8439\n",
      "Epoch 42/200\n",
      "165/165 [==============================] - 0s 2ms/step - loss: 0.3967 - accuracy: 0.8375\n",
      "Epoch 43/200\n",
      "165/165 [==============================] - 0s 2ms/step - loss: 0.4036 - accuracy: 0.8326\n",
      "Epoch 44/200\n",
      "165/165 [==============================] - 0s 2ms/step - loss: 0.3797 - accuracy: 0.8426\n",
      "Epoch 45/200\n",
      "165/165 [==============================] - 0s 1ms/step - loss: 0.3939 - accuracy: 0.8331\n",
      "Epoch 46/200\n",
      "165/165 [==============================] - 0s 2ms/step - loss: 0.3951 - accuracy: 0.8327\n",
      "Epoch 47/200\n",
      "165/165 [==============================] - 0s 2ms/step - loss: 0.3931 - accuracy: 0.8363\n",
      "Epoch 48/200\n",
      "165/165 [==============================] - 0s 2ms/step - loss: 0.3810 - accuracy: 0.8387\n",
      "Epoch 49/200\n",
      "165/165 [==============================] - 0s 2ms/step - loss: 0.3964 - accuracy: 0.8333\n",
      "Epoch 50/200\n",
      "165/165 [==============================] - 0s 2ms/step - loss: 0.3887 - accuracy: 0.8376\n",
      "Epoch 51/200\n",
      "165/165 [==============================] - 0s 2ms/step - loss: 0.3829 - accuracy: 0.8426\n",
      "Epoch 52/200\n",
      "165/165 [==============================] - 0s 2ms/step - loss: 0.3943 - accuracy: 0.8347\n",
      "Epoch 53/200\n",
      "165/165 [==============================] - 0s 2ms/step - loss: 0.3869 - accuracy: 0.8342\n",
      "Epoch 54/200\n",
      "165/165 [==============================] - 0s 2ms/step - loss: 0.3863 - accuracy: 0.8392\n",
      "Epoch 55/200\n",
      "165/165 [==============================] - 0s 2ms/step - loss: 0.3843 - accuracy: 0.8394\n",
      "Epoch 56/200\n",
      "165/165 [==============================] - 0s 2ms/step - loss: 0.3943 - accuracy: 0.8339\n",
      "Epoch 57/200\n",
      "165/165 [==============================] - 0s 2ms/step - loss: 0.3923 - accuracy: 0.8335\n",
      "Epoch 58/200\n",
      "165/165 [==============================] - 0s 2ms/step - loss: 0.3924 - accuracy: 0.8364\n",
      "Epoch 59/200\n",
      "165/165 [==============================] - 0s 2ms/step - loss: 0.3915 - accuracy: 0.8355\n",
      "Epoch 60/200\n",
      "165/165 [==============================] - 0s 2ms/step - loss: 0.3957 - accuracy: 0.8337\n",
      "Epoch 61/200\n",
      "165/165 [==============================] - 0s 2ms/step - loss: 0.4093 - accuracy: 0.8196\n",
      "Epoch 62/200\n",
      "165/165 [==============================] - 0s 2ms/step - loss: 0.3812 - accuracy: 0.8375\n",
      "Epoch 63/200\n",
      "165/165 [==============================] - 0s 1ms/step - loss: 0.4041 - accuracy: 0.8292\n",
      "Epoch 64/200\n",
      "165/165 [==============================] - 0s 2ms/step - loss: 0.3870 - accuracy: 0.8357\n",
      "Epoch 65/200\n",
      "165/165 [==============================] - 0s 2ms/step - loss: 0.3781 - accuracy: 0.8398\n",
      "Epoch 66/200\n",
      "165/165 [==============================] - 0s 2ms/step - loss: 0.3797 - accuracy: 0.8448\n",
      "Epoch 67/200\n",
      "165/165 [==============================] - 0s 2ms/step - loss: 0.3891 - accuracy: 0.8372\n",
      "Epoch 68/200\n",
      "165/165 [==============================] - 0s 2ms/step - loss: 0.4000 - accuracy: 0.8256\n",
      "Epoch 69/200\n",
      "165/165 [==============================] - 0s 2ms/step - loss: 0.3813 - accuracy: 0.8373\n",
      "Epoch 70/200\n",
      "165/165 [==============================] - 0s 2ms/step - loss: 0.3789 - accuracy: 0.8421\n",
      "Epoch 71/200\n",
      "165/165 [==============================] - 0s 2ms/step - loss: 0.3917 - accuracy: 0.8288\n",
      "Epoch 72/200\n",
      "165/165 [==============================] - 0s 2ms/step - loss: 0.3863 - accuracy: 0.8404\n",
      "Epoch 73/200\n",
      "165/165 [==============================] - 0s 2ms/step - loss: 0.3869 - accuracy: 0.8347\n",
      "Epoch 74/200\n",
      "165/165 [==============================] - 0s 2ms/step - loss: 0.3852 - accuracy: 0.8339\n",
      "Epoch 75/200\n",
      "165/165 [==============================] - 0s 2ms/step - loss: 0.3738 - accuracy: 0.8422\n",
      "Epoch 76/200\n",
      "165/165 [==============================] - 0s 2ms/step - loss: 0.3852 - accuracy: 0.8316\n",
      "Epoch 77/200\n",
      "165/165 [==============================] - 0s 2ms/step - loss: 0.3692 - accuracy: 0.8459\n",
      "Epoch 78/200\n",
      "165/165 [==============================] - 0s 2ms/step - loss: 0.3789 - accuracy: 0.8430\n",
      "Epoch 79/200\n",
      "165/165 [==============================] - 0s 2ms/step - loss: 0.3762 - accuracy: 0.8421\n",
      "Epoch 80/200\n",
      "165/165 [==============================] - 0s 2ms/step - loss: 0.3762 - accuracy: 0.8474\n",
      "Epoch 81/200\n"
     ]
    },
    {
     "name": "stdout",
     "output_type": "stream",
     "text": [
      "165/165 [==============================] - 0s 2ms/step - loss: 0.3691 - accuracy: 0.8441\n",
      "Epoch 82/200\n",
      "165/165 [==============================] - 0s 2ms/step - loss: 0.3786 - accuracy: 0.8407\n",
      "Epoch 83/200\n",
      "165/165 [==============================] - 0s 1ms/step - loss: 0.3730 - accuracy: 0.8460\n",
      "Epoch 84/200\n",
      "165/165 [==============================] - 0s 2ms/step - loss: 0.3779 - accuracy: 0.8367\n",
      "Epoch 85/200\n",
      "165/165 [==============================] - 0s 1ms/step - loss: 0.3776 - accuracy: 0.8449\n",
      "Epoch 86/200\n",
      "165/165 [==============================] - 0s 2ms/step - loss: 0.3732 - accuracy: 0.8406\n",
      "Epoch 87/200\n",
      "165/165 [==============================] - 0s 1ms/step - loss: 0.3722 - accuracy: 0.8441\n",
      "Epoch 88/200\n",
      "165/165 [==============================] - 0s 2ms/step - loss: 0.3744 - accuracy: 0.8439\n",
      "Epoch 89/200\n",
      "165/165 [==============================] - 0s 3ms/step - loss: 0.3895 - accuracy: 0.8382\n",
      "Epoch 90/200\n",
      "165/165 [==============================] - 0s 2ms/step - loss: 0.3707 - accuracy: 0.8460\n",
      "Epoch 91/200\n",
      "165/165 [==============================] - 0s 2ms/step - loss: 0.3861 - accuracy: 0.8299\n",
      "Epoch 92/200\n",
      "165/165 [==============================] - 0s 2ms/step - loss: 0.3777 - accuracy: 0.8442\n",
      "Epoch 93/200\n",
      "165/165 [==============================] - 0s 2ms/step - loss: 0.3840 - accuracy: 0.8372\n",
      "Epoch 94/200\n",
      "165/165 [==============================] - 0s 2ms/step - loss: 0.3807 - accuracy: 0.8454\n",
      "Epoch 95/200\n",
      "165/165 [==============================] - 0s 1ms/step - loss: 0.3880 - accuracy: 0.8335\n",
      "Epoch 96/200\n",
      "165/165 [==============================] - 0s 1ms/step - loss: 0.3748 - accuracy: 0.8447\n",
      "Epoch 97/200\n",
      "165/165 [==============================] - 0s 2ms/step - loss: 0.3654 - accuracy: 0.8515\n",
      "Epoch 98/200\n",
      "165/165 [==============================] - 0s 1ms/step - loss: 0.3764 - accuracy: 0.8474\n",
      "Epoch 99/200\n",
      "165/165 [==============================] - 0s 2ms/step - loss: 0.3877 - accuracy: 0.8340\n",
      "Epoch 100/200\n",
      "165/165 [==============================] - 0s 2ms/step - loss: 0.3788 - accuracy: 0.8388\n",
      "Epoch 101/200\n",
      "165/165 [==============================] - 0s 1ms/step - loss: 0.3714 - accuracy: 0.8453\n",
      "Epoch 102/200\n",
      "165/165 [==============================] - 0s 2ms/step - loss: 0.3824 - accuracy: 0.8399\n",
      "Epoch 103/200\n",
      "165/165 [==============================] - 0s 2ms/step - loss: 0.3899 - accuracy: 0.8367\n",
      "Epoch 104/200\n",
      "165/165 [==============================] - 0s 2ms/step - loss: 0.3611 - accuracy: 0.8480\n",
      "Epoch 105/200\n",
      "165/165 [==============================] - 0s 2ms/step - loss: 0.3836 - accuracy: 0.8381\n",
      "Epoch 106/200\n",
      "165/165 [==============================] - 0s 2ms/step - loss: 0.3834 - accuracy: 0.8397\n",
      "Epoch 107/200\n",
      "165/165 [==============================] - 0s 1ms/step - loss: 0.3806 - accuracy: 0.8403\n",
      "Epoch 108/200\n",
      "165/165 [==============================] - 0s 1ms/step - loss: 0.3862 - accuracy: 0.8407\n",
      "Epoch 109/200\n",
      "165/165 [==============================] - 0s 2ms/step - loss: 0.3850 - accuracy: 0.8386\n",
      "Epoch 110/200\n",
      "165/165 [==============================] - 0s 1ms/step - loss: 0.3778 - accuracy: 0.8405\n",
      "Epoch 111/200\n",
      "165/165 [==============================] - 0s 1ms/step - loss: 0.3752 - accuracy: 0.8427\n",
      "Epoch 112/200\n",
      "165/165 [==============================] - 0s 2ms/step - loss: 0.3754 - accuracy: 0.8388\n",
      "Epoch 113/200\n",
      "165/165 [==============================] - 0s 1ms/step - loss: 0.3711 - accuracy: 0.8468\n",
      "Epoch 114/200\n",
      "165/165 [==============================] - 0s 2ms/step - loss: 0.3740 - accuracy: 0.8406\n",
      "Epoch 115/200\n",
      "165/165 [==============================] - 0s 2ms/step - loss: 0.3808 - accuracy: 0.8435\n",
      "Epoch 116/200\n",
      "165/165 [==============================] - 0s 1ms/step - loss: 0.3709 - accuracy: 0.8420\n",
      "Epoch 117/200\n",
      "165/165 [==============================] - 0s 2ms/step - loss: 0.3816 - accuracy: 0.8410\n",
      "Epoch 118/200\n",
      "165/165 [==============================] - 0s 1ms/step - loss: 0.3836 - accuracy: 0.8295\n",
      "Epoch 119/200\n",
      "165/165 [==============================] - 0s 1ms/step - loss: 0.3797 - accuracy: 0.8353\n",
      "Epoch 120/200\n",
      "165/165 [==============================] - 0s 2ms/step - loss: 0.3771 - accuracy: 0.8403\n",
      "Epoch 121/200\n",
      "165/165 [==============================] - 0s 2ms/step - loss: 0.3752 - accuracy: 0.8473\n",
      "Epoch 122/200\n",
      "165/165 [==============================] - 0s 2ms/step - loss: 0.3728 - accuracy: 0.8430\n",
      "Epoch 123/200\n",
      "165/165 [==============================] - 0s 2ms/step - loss: 0.3808 - accuracy: 0.8339\n",
      "Epoch 124/200\n",
      "165/165 [==============================] - 0s 2ms/step - loss: 0.3768 - accuracy: 0.8379\n",
      "Epoch 125/200\n",
      "165/165 [==============================] - 0s 2ms/step - loss: 0.3756 - accuracy: 0.8435\n",
      "Epoch 126/200\n",
      "165/165 [==============================] - 0s 2ms/step - loss: 0.3945 - accuracy: 0.8315\n",
      "Epoch 127/200\n",
      "165/165 [==============================] - 0s 2ms/step - loss: 0.3746 - accuracy: 0.8464\n",
      "Epoch 128/200\n",
      "165/165 [==============================] - 0s 2ms/step - loss: 0.3759 - accuracy: 0.8461\n",
      "Epoch 129/200\n",
      "165/165 [==============================] - 0s 2ms/step - loss: 0.3847 - accuracy: 0.8355\n",
      "Epoch 130/200\n",
      "165/165 [==============================] - 0s 2ms/step - loss: 0.3805 - accuracy: 0.8363\n",
      "Epoch 131/200\n",
      "165/165 [==============================] - 0s 2ms/step - loss: 0.3750 - accuracy: 0.8405\n",
      "Epoch 132/200\n",
      "165/165 [==============================] - 0s 2ms/step - loss: 0.3710 - accuracy: 0.8454\n",
      "Epoch 133/200\n",
      "165/165 [==============================] - 0s 2ms/step - loss: 0.3769 - accuracy: 0.8369\n",
      "Epoch 134/200\n",
      "165/165 [==============================] - 0s 2ms/step - loss: 0.3875 - accuracy: 0.8360\n",
      "Epoch 135/200\n",
      "165/165 [==============================] - 0s 2ms/step - loss: 0.3830 - accuracy: 0.8367\n",
      "Epoch 136/200\n",
      "165/165 [==============================] - 0s 2ms/step - loss: 0.3792 - accuracy: 0.8376\n",
      "Epoch 137/200\n",
      "165/165 [==============================] - 0s 2ms/step - loss: 0.3721 - accuracy: 0.8461\n",
      "Epoch 138/200\n",
      "165/165 [==============================] - 0s 2ms/step - loss: 0.3848 - accuracy: 0.8371\n",
      "Epoch 139/200\n",
      "165/165 [==============================] - 0s 2ms/step - loss: 0.3815 - accuracy: 0.8385\n",
      "Epoch 140/200\n",
      "165/165 [==============================] - 0s 2ms/step - loss: 0.3757 - accuracy: 0.8430\n",
      "Epoch 141/200\n",
      "165/165 [==============================] - 0s 1ms/step - loss: 0.3797 - accuracy: 0.8386\n",
      "Epoch 142/200\n",
      "165/165 [==============================] - 0s 2ms/step - loss: 0.3810 - accuracy: 0.8437\n",
      "Epoch 143/200\n",
      "165/165 [==============================] - 0s 2ms/step - loss: 0.3720 - accuracy: 0.8399\n",
      "Epoch 144/200\n",
      "165/165 [==============================] - 0s 2ms/step - loss: 0.3719 - accuracy: 0.8406\n",
      "Epoch 145/200\n",
      "165/165 [==============================] - 0s 2ms/step - loss: 0.3883 - accuracy: 0.8383\n",
      "Epoch 146/200\n",
      "165/165 [==============================] - 0s 1ms/step - loss: 0.3626 - accuracy: 0.8488\n",
      "Epoch 147/200\n",
      "165/165 [==============================] - 0s 2ms/step - loss: 0.3707 - accuracy: 0.8410\n",
      "Epoch 148/200\n",
      "165/165 [==============================] - 0s 2ms/step - loss: 0.3711 - accuracy: 0.8416\n",
      "Epoch 149/200\n",
      "165/165 [==============================] - 0s 2ms/step - loss: 0.3655 - accuracy: 0.8415\n",
      "Epoch 150/200\n",
      "165/165 [==============================] - 0s 2ms/step - loss: 0.3563 - accuracy: 0.8523\n",
      "Epoch 151/200\n",
      "165/165 [==============================] - 0s 2ms/step - loss: 0.3673 - accuracy: 0.8428\n",
      "Epoch 152/200\n",
      "165/165 [==============================] - 0s 2ms/step - loss: 0.3790 - accuracy: 0.8423\n",
      "Epoch 153/200\n",
      "165/165 [==============================] - 0s 2ms/step - loss: 0.3739 - accuracy: 0.8382\n",
      "Epoch 154/200\n",
      "165/165 [==============================] - 0s 2ms/step - loss: 0.3647 - accuracy: 0.8497\n",
      "Epoch 155/200\n",
      "165/165 [==============================] - 0s 2ms/step - loss: 0.3778 - accuracy: 0.8392\n",
      "Epoch 156/200\n",
      "165/165 [==============================] - 0s 1ms/step - loss: 0.3822 - accuracy: 0.8403\n",
      "Epoch 157/200\n",
      "165/165 [==============================] - 0s 1ms/step - loss: 0.3815 - accuracy: 0.8339\n",
      "Epoch 158/200\n",
      "165/165 [==============================] - 0s 1ms/step - loss: 0.3725 - accuracy: 0.8464\n",
      "Epoch 159/200\n",
      "165/165 [==============================] - 0s 1ms/step - loss: 0.3673 - accuracy: 0.8483\n",
      "Epoch 160/200\n"
     ]
    },
    {
     "name": "stdout",
     "output_type": "stream",
     "text": [
      "165/165 [==============================] - 0s 1ms/step - loss: 0.3713 - accuracy: 0.8431\n",
      "Epoch 161/200\n",
      "165/165 [==============================] - 0s 1ms/step - loss: 0.3782 - accuracy: 0.8376\n",
      "Epoch 162/200\n",
      "165/165 [==============================] - 0s 1ms/step - loss: 0.3843 - accuracy: 0.8365\n",
      "Epoch 163/200\n",
      "165/165 [==============================] - 0s 1ms/step - loss: 0.3851 - accuracy: 0.8360\n",
      "Epoch 164/200\n",
      "165/165 [==============================] - 0s 1ms/step - loss: 0.3654 - accuracy: 0.8449\n",
      "Epoch 165/200\n",
      "165/165 [==============================] - 0s 1ms/step - loss: 0.3719 - accuracy: 0.8398\n",
      "Epoch 166/200\n",
      "165/165 [==============================] - 0s 1ms/step - loss: 0.3642 - accuracy: 0.8474\n",
      "Epoch 167/200\n",
      "165/165 [==============================] - 0s 2ms/step - loss: 0.3604 - accuracy: 0.8526\n",
      "Epoch 168/200\n",
      "165/165 [==============================] - 0s 1ms/step - loss: 0.3663 - accuracy: 0.8442\n",
      "Epoch 169/200\n",
      "165/165 [==============================] - 0s 1ms/step - loss: 0.3697 - accuracy: 0.8458\n",
      "Epoch 170/200\n",
      "165/165 [==============================] - 0s 2ms/step - loss: 0.3663 - accuracy: 0.8454\n",
      "Epoch 171/200\n",
      "165/165 [==============================] - 0s 1ms/step - loss: 0.3672 - accuracy: 0.8442\n",
      "Epoch 172/200\n",
      "165/165 [==============================] - 0s 1ms/step - loss: 0.3718 - accuracy: 0.8441\n",
      "Epoch 173/200\n",
      "165/165 [==============================] - 0s 1ms/step - loss: 0.3603 - accuracy: 0.8442\n",
      "Epoch 174/200\n",
      "165/165 [==============================] - 0s 1ms/step - loss: 0.3721 - accuracy: 0.8466\n",
      "Epoch 175/200\n",
      "165/165 [==============================] - 0s 2ms/step - loss: 0.3864 - accuracy: 0.8369\n",
      "Epoch 176/200\n",
      "165/165 [==============================] - 0s 1ms/step - loss: 0.3802 - accuracy: 0.8416\n",
      "Epoch 177/200\n",
      "165/165 [==============================] - 0s 1ms/step - loss: 0.3733 - accuracy: 0.8384\n",
      "Epoch 178/200\n",
      "165/165 [==============================] - 0s 2ms/step - loss: 0.3766 - accuracy: 0.8434: 0s - loss: 0.3965 - accuracy\n",
      "Epoch 179/200\n",
      "165/165 [==============================] - 0s 2ms/step - loss: 0.3874 - accuracy: 0.8353\n",
      "Epoch 180/200\n",
      "165/165 [==============================] - 0s 1ms/step - loss: 0.3650 - accuracy: 0.8470\n",
      "Epoch 181/200\n",
      "165/165 [==============================] - 0s 1ms/step - loss: 0.3643 - accuracy: 0.8503\n",
      "Epoch 182/200\n",
      "165/165 [==============================] - 0s 1ms/step - loss: 0.3780 - accuracy: 0.8394\n",
      "Epoch 183/200\n",
      "165/165 [==============================] - 0s 1ms/step - loss: 0.3843 - accuracy: 0.8323\n",
      "Epoch 184/200\n",
      "165/165 [==============================] - 0s 1ms/step - loss: 0.3725 - accuracy: 0.8418\n",
      "Epoch 185/200\n",
      "165/165 [==============================] - 0s 2ms/step - loss: 0.3618 - accuracy: 0.8481\n",
      "Epoch 186/200\n",
      "165/165 [==============================] - 0s 2ms/step - loss: 0.3547 - accuracy: 0.8503\n",
      "Epoch 187/200\n",
      "165/165 [==============================] - 0s 2ms/step - loss: 0.3553 - accuracy: 0.8463\n",
      "Epoch 188/200\n",
      "165/165 [==============================] - 0s 2ms/step - loss: 0.3740 - accuracy: 0.8423\n",
      "Epoch 189/200\n",
      "165/165 [==============================] - 0s 2ms/step - loss: 0.3581 - accuracy: 0.8519\n",
      "Epoch 190/200\n",
      "165/165 [==============================] - 0s 2ms/step - loss: 0.3594 - accuracy: 0.8484\n",
      "Epoch 191/200\n",
      "165/165 [==============================] - 0s 2ms/step - loss: 0.3591 - accuracy: 0.8508\n",
      "Epoch 192/200\n",
      "165/165 [==============================] - 0s 2ms/step - loss: 0.3775 - accuracy: 0.8425\n",
      "Epoch 193/200\n",
      "165/165 [==============================] - 0s 1ms/step - loss: 0.3738 - accuracy: 0.8464\n",
      "Epoch 194/200\n",
      "165/165 [==============================] - 0s 2ms/step - loss: 0.3621 - accuracy: 0.8503\n",
      "Epoch 195/200\n",
      "165/165 [==============================] - 0s 2ms/step - loss: 0.3874 - accuracy: 0.8377\n",
      "Epoch 196/200\n",
      "165/165 [==============================] - 0s 2ms/step - loss: 0.3826 - accuracy: 0.8380\n",
      "Epoch 197/200\n",
      "165/165 [==============================] - 0s 2ms/step - loss: 0.3800 - accuracy: 0.8427\n",
      "Epoch 198/200\n",
      "165/165 [==============================] - 0s 2ms/step - loss: 0.3772 - accuracy: 0.8369\n",
      "Epoch 199/200\n",
      "165/165 [==============================] - 0s 2ms/step - loss: 0.3763 - accuracy: 0.8335\n",
      "Epoch 200/200\n",
      "165/165 [==============================] - 0s 2ms/step - loss: 0.3721 - accuracy: 0.8429\n"
     ]
    },
    {
     "data": {
      "text/plain": [
       "<tensorflow.python.keras.callbacks.History at 0x7f91b6a03370>"
      ]
     },
     "execution_count": 112,
     "metadata": {},
     "output_type": "execute_result"
    }
   ],
   "source": [
    "model_ChurnBankPred.fit(X_train, y_train, epochs=200)"
   ]
  },
  {
   "cell_type": "code",
   "execution_count": 114,
   "metadata": {},
   "outputs": [
    {
     "name": "stdout",
     "output_type": "stream",
     "text": [
      "30/30 [==============================] - 0s 1ms/step - loss: 0.3622 - accuracy: 0.8482\n"
     ]
    },
    {
     "data": {
      "text/plain": [
       "[0.36221757531166077, 0.8482239246368408]"
      ]
     },
     "execution_count": 114,
     "metadata": {},
     "output_type": "execute_result"
    }
   ],
   "source": [
    "model_ChurnBankPred.evaluate(X_test, y_test)"
   ]
  },
  {
   "cell_type": "code",
   "execution_count": 115,
   "metadata": {},
   "outputs": [
    {
     "data": {
      "text/plain": [
       "array([[0.03866979],\n",
       "       [0.09557968],\n",
       "       [0.18299112],\n",
       "       [0.01581144],\n",
       "       [0.13328958]], dtype=float32)"
      ]
     },
     "execution_count": 115,
     "metadata": {},
     "output_type": "execute_result"
    }
   ],
   "source": [
    "yp =model_ChurnBankPred.predict(X_test)\n",
    "yp[:5]"
   ]
  },
  {
   "cell_type": "code",
   "execution_count": 116,
   "metadata": {},
   "outputs": [],
   "source": [
    "y_pred=[]\n",
    "\n",
    "for element in yp:\n",
    "    if element >0.5:\n",
    "        y_pred.append(1)\n",
    "    else:\n",
    "        y_pred.append(0)"
   ]
  },
  {
   "cell_type": "code",
   "execution_count": 118,
   "metadata": {},
   "outputs": [
    {
     "data": {
      "text/plain": [
       "[0, 0, 0, 0, 0, 0, 0, 0, 0, 0]"
      ]
     },
     "execution_count": 118,
     "metadata": {},
     "output_type": "execute_result"
    }
   ],
   "source": [
    "y_pred[:10]"
   ]
  },
  {
   "cell_type": "code",
   "execution_count": 119,
   "metadata": {},
   "outputs": [
    {
     "data": {
      "text/plain": [
       "7873    0\n",
       "9480    0\n",
       "8456    0\n",
       "849     0\n",
       "80      0\n",
       "9744    1\n",
       "7579    0\n",
       "4388    0\n",
       "2288    0\n",
       "7122    0\n",
       "Name: Exited, dtype: int64"
      ]
     },
     "execution_count": 119,
     "metadata": {},
     "output_type": "execute_result"
    }
   ],
   "source": [
    "y_test[:10]"
   ]
  },
  {
   "cell_type": "code",
   "execution_count": 120,
   "metadata": {},
   "outputs": [
    {
     "name": "stdout",
     "output_type": "stream",
     "text": [
      "              precision    recall  f1-score   support\n",
      "\n",
      "           0       0.87      0.94      0.91       726\n",
      "           1       0.71      0.52      0.60       203\n",
      "\n",
      "    accuracy                           0.85       929\n",
      "   macro avg       0.79      0.73      0.75       929\n",
      "weighted avg       0.84      0.85      0.84       929\n",
      "\n"
     ]
    }
   ],
   "source": [
    "from sklearn.metrics import confusion_matrix, classification_report\n",
    "print(classification_report(y_test,y_pred))"
   ]
  },
  {
   "cell_type": "code",
   "execution_count": 121,
   "metadata": {},
   "outputs": [
    {
     "data": {
      "text/plain": [
       "Text(66.5, 0.5, 'Truth')"
      ]
     },
     "execution_count": 121,
     "metadata": {},
     "output_type": "execute_result"
    },
    {
     "data": {
      "image/png": "[encoded data removed]",
      "text/plain": [
       "<Figure size 720x504 with 2 Axes>"
      ]
     },
     "metadata": {},
     "output_type": "display_data"
    }
   ],
   "source": [
    "cm = tf.math.confusion_matrix(labels=y_test,predictions=y_pred)\n",
    "\n",
    "plt.figure(figsize = (10,7))\n",
    "sns.heatmap(cm, annot=True,fmt='d')\n",
    "plt.xlabel('Predicted')\n",
    "plt.ylabel('Truth')"
   ]
  },
  {
   "cell_type": "code",
   "execution_count": 122,
   "metadata": {},
   "outputs": [
    {
     "data": {
      "text/plain": [
       "(929,)"
      ]
     },
     "execution_count": 122,
     "metadata": {},
     "output_type": "execute_result"
    }
   ],
   "source": [
    "y_test.shape"
   ]
  },
  {
   "cell_type": "markdown",
   "metadata": {},
   "source": [
    "# Accuracy"
   ]
  },
  {
   "cell_type": "code",
   "execution_count": 123,
   "metadata": {},
   "outputs": [
    {
     "data": {
      "text/plain": [
       "0.85"
      ]
     },
     "execution_count": 123,
     "metadata": {},
     "output_type": "execute_result"
    }
   ],
   "source": [
    "round((683+105)/(683+105+43+98),2)"
   ]
  },
  {
   "cell_type": "markdown",
   "metadata": {},
   "source": [
    "# Precision for 0 class"
   ]
  },
  {
   "cell_type": "code",
   "execution_count": 125,
   "metadata": {},
   "outputs": [
    {
     "data": {
      "text/plain": [
       "0.87"
      ]
     },
     "execution_count": 125,
     "metadata": {},
     "output_type": "execute_result"
    }
   ],
   "source": [
    "round(683/(683+98),2)"
   ]
  },
  {
   "cell_type": "markdown",
   "metadata": {},
   "source": [
    "# Precision for 1 class"
   ]
  },
  {
   "cell_type": "code",
   "execution_count": 126,
   "metadata": {},
   "outputs": [
    {
     "data": {
      "text/plain": [
       "0.71"
      ]
     },
     "execution_count": 126,
     "metadata": {},
     "output_type": "execute_result"
    }
   ],
   "source": [
    "round(105/(105+43),2)"
   ]
  },
  {
   "cell_type": "markdown",
   "metadata": {},
   "source": [
    "# Recall for 0 class"
   ]
  },
  {
   "cell_type": "code",
   "execution_count": 127,
   "metadata": {},
   "outputs": [
    {
     "data": {
      "text/plain": [
       "0.94"
      ]
     },
     "execution_count": 127,
     "metadata": {},
     "output_type": "execute_result"
    }
   ],
   "source": [
    "round(683/(683+43),2)"
   ]
  },
  {
   "cell_type": "markdown",
   "metadata": {},
   "source": [
    "# Recall for 1 class"
   ]
  },
  {
   "cell_type": "code",
   "execution_count": 129,
   "metadata": {},
   "outputs": [
    {
     "data": {
      "text/plain": [
       "0.52"
      ]
     },
     "execution_count": 129,
     "metadata": {},
     "output_type": "execute_result"
    }
   ],
   "source": [
    "round(105/(105+98),2)"
   ]
  },
  {
   "cell_type": "code",
   "execution_count": null,
   "metadata": {},
   "outputs": [],
   "source": []
  }
 ],
 "metadata": {
  "kernelspec": {
   "display_name": "Python 3",
   "language": "python",
   "name": "python3"
  },
  "language_info": {
   "codemirror_mode": {
    "name": "ipython",
    "version": 3
   },
   "file_extension": ".py",
   "mimetype": "text/x-python",
   "name": "python",
   "nbconvert_exporter": "python",
   "pygments_lexer": "ipython3",
   "version": "3.8.5"
  }
 },
 "nbformat": 4,
 "nbformat_minor": 4
}
